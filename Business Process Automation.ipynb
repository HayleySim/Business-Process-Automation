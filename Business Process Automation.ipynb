{
 "cells": [
  {
   "cell_type": "markdown",
   "id": "a1e3218e",
   "metadata": {},
   "source": [
    "# Business Process Automation"
   ]
  },
  {
   "cell_type": "markdown",
   "id": "cd49fdbb",
   "metadata": {},
   "source": [
    "The sales reports from regional offices can be combined into one file by using Python. In this part, I will describe how to combine files made in different formats as well as analyse sales data in Python. I have assumed that GoodSale has 4 regional offices in the UK (London, South East, North West, West Midlands), and they are dealing with heavy machine items which are steel, rod, bit, casing, shank, coupling and other products. I have received sales data from the 1st to the 5th of December from all regional offices. Each office sent over their sales data–some sent Excel or csv files and other sent plain text via email.\n",
    "\n",
    "The first step I will outlines is opening the 5 days of sales data from each regional office. After that, these data will be formatted and combined into one DataFrame. Lastly, I will analyse sales data and use the visualization function in Python. Once I am done with visualization, this report will be sent to the sales manager via email."
   ]
  },
  {
   "cell_type": "code",
   "execution_count": 1,
   "id": "f81c7604",
   "metadata": {},
   "outputs": [],
   "source": [
    "import pandas as pd\n",
    "import numpy as np\n",
    "import time\n",
    "import plotly.express as px\n",
    "\n",
    "# I have brought this functionality or library to my python script."
   ]
  },
  {
   "cell_type": "markdown",
   "id": "af98ed2b",
   "metadata": {},
   "source": [
    "# 1. Open sales data\n",
    "\n",
    "\n",
    "## (1) open .xlsx file\n"
   ]
  },
  {
   "cell_type": "markdown",
   "id": "a407a6ca",
   "metadata": {},
   "source": [
    "**London office** sent out daily sales report every morning from 1st December to 5th December via excel file. I brought out these sheets from excel file and combined them into one DataFrame as follows."
   ]
  },
  {
   "cell_type": "code",
   "execution_count": 2,
   "id": "57935bd0",
   "metadata": {
    "scrolled": false
   },
   "outputs": [],
   "source": [
    "london_sales_dec1 = pd.read_excel(\"London.xlsx\", 'Dec 1', header=0, index_col=0)\n",
    "london_sales_dec2 = pd.read_excel(\"London.xlsx\", 'Dec 2', header=0, index_col=0)\n",
    "london_sales_dec3 = pd.read_excel(\"London.xlsx\", 'Dec 3', header=0, index_col=0)\n",
    "london_sales_dec4 = pd.read_excel(\"London.xlsx\", 'Dec 4', header=0, index_col=0)\n",
    "london_sales_dec5 = pd.read_excel(\"London.xlsx\", 'Dec 5', header=0, index_col=0)\n",
    "\n",
    "# I have opened the file named \"London.xlsx\" excel file and as well as each sheet"
   ]
  },
  {
   "cell_type": "code",
   "execution_count": 3,
   "id": "28eb90e1",
   "metadata": {},
   "outputs": [
    {
     "data": {
      "text/html": [
       "<div>\n",
       "<style scoped>\n",
       "    .dataframe tbody tr th:only-of-type {\n",
       "        vertical-align: middle;\n",
       "    }\n",
       "\n",
       "    .dataframe tbody tr th {\n",
       "        vertical-align: top;\n",
       "    }\n",
       "\n",
       "    .dataframe thead th {\n",
       "        text-align: right;\n",
       "    }\n",
       "</style>\n",
       "<table border=\"1\" class=\"dataframe\">\n",
       "  <thead>\n",
       "    <tr style=\"text-align: right;\">\n",
       "      <th></th>\n",
       "      <th>Location</th>\n",
       "      <th>Products</th>\n",
       "      <th>Q'ty</th>\n",
       "      <th>Total sales amount</th>\n",
       "      <th>Cur.</th>\n",
       "    </tr>\n",
       "    <tr>\n",
       "      <th>Date</th>\n",
       "      <th></th>\n",
       "      <th></th>\n",
       "      <th></th>\n",
       "      <th></th>\n",
       "      <th></th>\n",
       "    </tr>\n",
       "  </thead>\n",
       "  <tbody>\n",
       "    <tr>\n",
       "      <th>2022-12-01</th>\n",
       "      <td>London</td>\n",
       "      <td>Steel</td>\n",
       "      <td>43</td>\n",
       "      <td>4300</td>\n",
       "      <td>GBP</td>\n",
       "    </tr>\n",
       "    <tr>\n",
       "      <th>2022-12-01</th>\n",
       "      <td>London</td>\n",
       "      <td>Rod</td>\n",
       "      <td>533</td>\n",
       "      <td>159900</td>\n",
       "      <td>GBP</td>\n",
       "    </tr>\n",
       "    <tr>\n",
       "      <th>2022-12-01</th>\n",
       "      <td>London</td>\n",
       "      <td>Bit</td>\n",
       "      <td>17</td>\n",
       "      <td>4250</td>\n",
       "      <td>GBP</td>\n",
       "    </tr>\n",
       "    <tr>\n",
       "      <th>2022-12-01</th>\n",
       "      <td>London</td>\n",
       "      <td>Casing</td>\n",
       "      <td>30</td>\n",
       "      <td>1500</td>\n",
       "      <td>GBP</td>\n",
       "    </tr>\n",
       "    <tr>\n",
       "      <th>2022-12-01</th>\n",
       "      <td>London</td>\n",
       "      <td>Shank</td>\n",
       "      <td>42</td>\n",
       "      <td>1890</td>\n",
       "      <td>GBP</td>\n",
       "    </tr>\n",
       "    <tr>\n",
       "      <th>2022-12-01</th>\n",
       "      <td>London</td>\n",
       "      <td>Coupling</td>\n",
       "      <td>120</td>\n",
       "      <td>2880</td>\n",
       "      <td>GBP</td>\n",
       "    </tr>\n",
       "    <tr>\n",
       "      <th>2022-12-01</th>\n",
       "      <td>London</td>\n",
       "      <td>Other products</td>\n",
       "      <td>232</td>\n",
       "      <td>2320</td>\n",
       "      <td>GBP</td>\n",
       "    </tr>\n",
       "    <tr>\n",
       "      <th>NaT</th>\n",
       "      <td>NaN</td>\n",
       "      <td>Total</td>\n",
       "      <td>1017</td>\n",
       "      <td>177040</td>\n",
       "      <td>NaN</td>\n",
       "    </tr>\n",
       "  </tbody>\n",
       "</table>\n",
       "</div>"
      ],
      "text/plain": [
       "           Location        Products  Q'ty  Total sales amount Cur.\n",
       "Date                                                              \n",
       "2022-12-01   London           Steel    43                4300  GBP\n",
       "2022-12-01   London             Rod   533              159900  GBP\n",
       "2022-12-01   London             Bit    17                4250  GBP\n",
       "2022-12-01   London          Casing    30                1500  GBP\n",
       "2022-12-01   London           Shank    42                1890  GBP\n",
       "2022-12-01   London        Coupling   120                2880  GBP\n",
       "2022-12-01   London  Other products   232                2320  GBP\n",
       "NaT             NaN           Total  1017              177040  NaN"
      ]
     },
     "execution_count": 3,
     "metadata": {},
     "output_type": "execute_result"
    }
   ],
   "source": [
    "pd.read_excel(\"London.xlsx\", 'Dec 1', header=0, index_col=0)\n",
    "\n",
    "# Each sheet has been opened by using \"pd.read_excel\" as shown above.\n",
    "# In order to make index from date, set the index_col as 0."
   ]
  },
  {
   "cell_type": "code",
   "execution_count": 4,
   "id": "d859e14d",
   "metadata": {
    "scrolled": true
   },
   "outputs": [
    {
     "data": {
      "text/html": [
       "<div>\n",
       "<style scoped>\n",
       "    .dataframe tbody tr th:only-of-type {\n",
       "        vertical-align: middle;\n",
       "    }\n",
       "\n",
       "    .dataframe tbody tr th {\n",
       "        vertical-align: top;\n",
       "    }\n",
       "\n",
       "    .dataframe thead th {\n",
       "        text-align: right;\n",
       "    }\n",
       "</style>\n",
       "<table border=\"1\" class=\"dataframe\">\n",
       "  <thead>\n",
       "    <tr style=\"text-align: right;\">\n",
       "      <th></th>\n",
       "      <th>Location</th>\n",
       "      <th>Products</th>\n",
       "      <th>Q'ty</th>\n",
       "      <th>Total sales amount</th>\n",
       "      <th>Cur.</th>\n",
       "    </tr>\n",
       "    <tr>\n",
       "      <th>Date</th>\n",
       "      <th></th>\n",
       "      <th></th>\n",
       "      <th></th>\n",
       "      <th></th>\n",
       "      <th></th>\n",
       "    </tr>\n",
       "  </thead>\n",
       "  <tbody>\n",
       "    <tr>\n",
       "      <th>2022-12-01</th>\n",
       "      <td>London</td>\n",
       "      <td>Steel</td>\n",
       "      <td>43</td>\n",
       "      <td>4300</td>\n",
       "      <td>GBP</td>\n",
       "    </tr>\n",
       "    <tr>\n",
       "      <th>2022-12-01</th>\n",
       "      <td>London</td>\n",
       "      <td>Rod</td>\n",
       "      <td>533</td>\n",
       "      <td>159900</td>\n",
       "      <td>GBP</td>\n",
       "    </tr>\n",
       "    <tr>\n",
       "      <th>2022-12-01</th>\n",
       "      <td>London</td>\n",
       "      <td>Bit</td>\n",
       "      <td>17</td>\n",
       "      <td>4250</td>\n",
       "      <td>GBP</td>\n",
       "    </tr>\n",
       "    <tr>\n",
       "      <th>2022-12-01</th>\n",
       "      <td>London</td>\n",
       "      <td>Casing</td>\n",
       "      <td>30</td>\n",
       "      <td>1500</td>\n",
       "      <td>GBP</td>\n",
       "    </tr>\n",
       "    <tr>\n",
       "      <th>2022-12-01</th>\n",
       "      <td>London</td>\n",
       "      <td>Shank</td>\n",
       "      <td>42</td>\n",
       "      <td>1890</td>\n",
       "      <td>GBP</td>\n",
       "    </tr>\n",
       "    <tr>\n",
       "      <th>2022-12-01</th>\n",
       "      <td>London</td>\n",
       "      <td>Coupling</td>\n",
       "      <td>120</td>\n",
       "      <td>2880</td>\n",
       "      <td>GBP</td>\n",
       "    </tr>\n",
       "    <tr>\n",
       "      <th>2022-12-01</th>\n",
       "      <td>London</td>\n",
       "      <td>Other products</td>\n",
       "      <td>232</td>\n",
       "      <td>2320</td>\n",
       "      <td>GBP</td>\n",
       "    </tr>\n",
       "    <tr>\n",
       "      <th>NaT</th>\n",
       "      <td>NaN</td>\n",
       "      <td>Total</td>\n",
       "      <td>1017</td>\n",
       "      <td>177040</td>\n",
       "      <td>NaN</td>\n",
       "    </tr>\n",
       "  </tbody>\n",
       "</table>\n",
       "</div>"
      ],
      "text/plain": [
       "           Location        Products  Q'ty  Total sales amount Cur.\n",
       "Date                                                              \n",
       "2022-12-01   London           Steel    43                4300  GBP\n",
       "2022-12-01   London             Rod   533              159900  GBP\n",
       "2022-12-01   London             Bit    17                4250  GBP\n",
       "2022-12-01   London          Casing    30                1500  GBP\n",
       "2022-12-01   London           Shank    42                1890  GBP\n",
       "2022-12-01   London        Coupling   120                2880  GBP\n",
       "2022-12-01   London  Other products   232                2320  GBP\n",
       "NaT             NaN           Total  1017              177040  NaN"
      ]
     },
     "execution_count": 4,
     "metadata": {},
     "output_type": "execute_result"
    }
   ],
   "source": [
    "london_sales_dec1\n",
    "\n",
    "# I saved sales data on 1st December from London branch as London_Sales_Dec1."
   ]
  },
  {
   "cell_type": "code",
   "execution_count": 5,
   "id": "ddd0b3ff",
   "metadata": {
    "scrolled": true
   },
   "outputs": [
    {
     "data": {
      "text/html": [
       "<div>\n",
       "<style scoped>\n",
       "    .dataframe tbody tr th:only-of-type {\n",
       "        vertical-align: middle;\n",
       "    }\n",
       "\n",
       "    .dataframe tbody tr th {\n",
       "        vertical-align: top;\n",
       "    }\n",
       "\n",
       "    .dataframe thead th {\n",
       "        text-align: right;\n",
       "    }\n",
       "</style>\n",
       "<table border=\"1\" class=\"dataframe\">\n",
       "  <thead>\n",
       "    <tr style=\"text-align: right;\">\n",
       "      <th></th>\n",
       "      <th>Location</th>\n",
       "      <th>Products</th>\n",
       "      <th>Q'ty</th>\n",
       "      <th>Total sales amount</th>\n",
       "      <th>Cur.</th>\n",
       "    </tr>\n",
       "    <tr>\n",
       "      <th>Date</th>\n",
       "      <th></th>\n",
       "      <th></th>\n",
       "      <th></th>\n",
       "      <th></th>\n",
       "      <th></th>\n",
       "    </tr>\n",
       "  </thead>\n",
       "  <tbody>\n",
       "    <tr>\n",
       "      <th>2022-12-02</th>\n",
       "      <td>London</td>\n",
       "      <td>Steel</td>\n",
       "      <td>45</td>\n",
       "      <td>4500</td>\n",
       "      <td>GBP</td>\n",
       "    </tr>\n",
       "    <tr>\n",
       "      <th>2022-12-02</th>\n",
       "      <td>London</td>\n",
       "      <td>Rod</td>\n",
       "      <td>650</td>\n",
       "      <td>195000</td>\n",
       "      <td>GBP</td>\n",
       "    </tr>\n",
       "    <tr>\n",
       "      <th>2022-12-02</th>\n",
       "      <td>London</td>\n",
       "      <td>Bit</td>\n",
       "      <td>20</td>\n",
       "      <td>5000</td>\n",
       "      <td>GBP</td>\n",
       "    </tr>\n",
       "    <tr>\n",
       "      <th>2022-12-02</th>\n",
       "      <td>London</td>\n",
       "      <td>Casing</td>\n",
       "      <td>25</td>\n",
       "      <td>1250</td>\n",
       "      <td>GBP</td>\n",
       "    </tr>\n",
       "    <tr>\n",
       "      <th>2022-12-02</th>\n",
       "      <td>London</td>\n",
       "      <td>Shank</td>\n",
       "      <td>35</td>\n",
       "      <td>1575</td>\n",
       "      <td>GBP</td>\n",
       "    </tr>\n",
       "  </tbody>\n",
       "</table>\n",
       "</div>"
      ],
      "text/plain": [
       "           Location Products  Q'ty  Total sales amount Cur.\n",
       "Date                                                       \n",
       "2022-12-02   London    Steel    45                4500  GBP\n",
       "2022-12-02   London      Rod   650              195000  GBP\n",
       "2022-12-02   London      Bit    20                5000  GBP\n",
       "2022-12-02   London   Casing    25                1250  GBP\n",
       "2022-12-02   London    Shank    35                1575  GBP"
      ]
     },
     "execution_count": 5,
     "metadata": {},
     "output_type": "execute_result"
    }
   ],
   "source": [
    "london_sales_dec2.head()\n",
    "\n",
    "# Only five rows can be shown when using head(). By using this function, we can check if the format is correct."
   ]
  },
  {
   "cell_type": "code",
   "execution_count": 6,
   "id": "2f1cb932",
   "metadata": {},
   "outputs": [
    {
     "data": {
      "text/html": [
       "<div>\n",
       "<style scoped>\n",
       "    .dataframe tbody tr th:only-of-type {\n",
       "        vertical-align: middle;\n",
       "    }\n",
       "\n",
       "    .dataframe tbody tr th {\n",
       "        vertical-align: top;\n",
       "    }\n",
       "\n",
       "    .dataframe thead th {\n",
       "        text-align: right;\n",
       "    }\n",
       "</style>\n",
       "<table border=\"1\" class=\"dataframe\">\n",
       "  <thead>\n",
       "    <tr style=\"text-align: right;\">\n",
       "      <th></th>\n",
       "      <th>Location</th>\n",
       "      <th>Products</th>\n",
       "      <th>Q'ty</th>\n",
       "      <th>Total sales amount</th>\n",
       "      <th>Cur.</th>\n",
       "    </tr>\n",
       "    <tr>\n",
       "      <th>Date</th>\n",
       "      <th></th>\n",
       "      <th></th>\n",
       "      <th></th>\n",
       "      <th></th>\n",
       "      <th></th>\n",
       "    </tr>\n",
       "  </thead>\n",
       "  <tbody>\n",
       "    <tr>\n",
       "      <th>2022-12-05</th>\n",
       "      <td>London</td>\n",
       "      <td>Bit</td>\n",
       "      <td>39</td>\n",
       "      <td>9750</td>\n",
       "      <td>GBP</td>\n",
       "    </tr>\n",
       "    <tr>\n",
       "      <th>2022-12-05</th>\n",
       "      <td>London</td>\n",
       "      <td>Casing</td>\n",
       "      <td>28</td>\n",
       "      <td>1400</td>\n",
       "      <td>GBP</td>\n",
       "    </tr>\n",
       "    <tr>\n",
       "      <th>2022-12-05</th>\n",
       "      <td>London</td>\n",
       "      <td>Shank</td>\n",
       "      <td>35</td>\n",
       "      <td>1575</td>\n",
       "      <td>GBP</td>\n",
       "    </tr>\n",
       "    <tr>\n",
       "      <th>2022-12-05</th>\n",
       "      <td>London</td>\n",
       "      <td>Coupling</td>\n",
       "      <td>28</td>\n",
       "      <td>672</td>\n",
       "      <td>GBP</td>\n",
       "    </tr>\n",
       "    <tr>\n",
       "      <th>2022-12-05</th>\n",
       "      <td>London</td>\n",
       "      <td>Other products</td>\n",
       "      <td>310</td>\n",
       "      <td>3100</td>\n",
       "      <td>GBP</td>\n",
       "    </tr>\n",
       "  </tbody>\n",
       "</table>\n",
       "</div>"
      ],
      "text/plain": [
       "           Location        Products  Q'ty  Total sales amount Cur.\n",
       "Date                                                              \n",
       "2022-12-05   London             Bit    39                9750  GBP\n",
       "2022-12-05   London          Casing    28                1400  GBP\n",
       "2022-12-05   London           Shank    35                1575  GBP\n",
       "2022-12-05   London        Coupling    28                 672  GBP\n",
       "2022-12-05   London  Other products   310                3100  GBP"
      ]
     },
     "execution_count": 6,
     "metadata": {},
     "output_type": "execute_result"
    }
   ],
   "source": [
    "london_sales = pd.concat([london_sales_dec1, \n",
    "                          london_sales_dec2, \n",
    "                          london_sales_dec3, \n",
    "                          london_sales_dec4, \n",
    "                          london_sales_dec5], axis=0)\n",
    "london_sales = london_sales.dropna() # removing NAN values in DataFrame\n",
    "london_sales.tail()"
   ]
  },
  {
   "cell_type": "markdown",
   "id": "09688102",
   "metadata": {},
   "source": [
    "I have combined 5 days sales data from London office into one DataFrame.\n",
    "\n",
    "The rest of sales data from 3 local offices(South East, North West, West Midlands) can be combined into same DataFrame by using Python code. I assume that 2 offices(South East, North West) of them sent out sales data via excel file and West Midlands office sent out via Outlook.\n",
    "\n",
    "I have received excel files (xlsx.) from South East and csv files (csv.) from North West. I will combine these two different format files into same DataFrame."
   ]
  },
  {
   "cell_type": "code",
   "execution_count": 7,
   "id": "fc418600",
   "metadata": {},
   "outputs": [],
   "source": [
    "south_east_sales_dec1 = pd.read_excel(\"South East.xlsx\", 'Dec 1', header=0, index_col=0)\n",
    "south_east_sales_dec2 = pd.read_excel(\"South East.xlsx\", 'Dec 2', header=0, index_col=0)\n",
    "south_east_sales_dec3 = pd.read_excel(\"South East.xlsx\", 'Dec 3', header=0, index_col=0)\n",
    "south_east_sales_dec4 = pd.read_excel(\"South East.xlsx\", 'Dec 4', header=0, index_col=0)\n",
    "south_east_sales_dec5 = pd.read_excel(\"South East.xlsx\", 'Dec 5', header=0, index_col=0)"
   ]
  },
  {
   "cell_type": "code",
   "execution_count": 8,
   "id": "995b53be",
   "metadata": {
    "scrolled": true
   },
   "outputs": [
    {
     "data": {
      "text/html": [
       "<div>\n",
       "<style scoped>\n",
       "    .dataframe tbody tr th:only-of-type {\n",
       "        vertical-align: middle;\n",
       "    }\n",
       "\n",
       "    .dataframe tbody tr th {\n",
       "        vertical-align: top;\n",
       "    }\n",
       "\n",
       "    .dataframe thead th {\n",
       "        text-align: right;\n",
       "    }\n",
       "</style>\n",
       "<table border=\"1\" class=\"dataframe\">\n",
       "  <thead>\n",
       "    <tr style=\"text-align: right;\">\n",
       "      <th></th>\n",
       "      <th>Location</th>\n",
       "      <th>Products</th>\n",
       "      <th>Q'ty</th>\n",
       "      <th>Total sales amount</th>\n",
       "      <th>Cur.</th>\n",
       "    </tr>\n",
       "    <tr>\n",
       "      <th>Date</th>\n",
       "      <th></th>\n",
       "      <th></th>\n",
       "      <th></th>\n",
       "      <th></th>\n",
       "      <th></th>\n",
       "    </tr>\n",
       "  </thead>\n",
       "  <tbody>\n",
       "    <tr>\n",
       "      <th>2022-12-05</th>\n",
       "      <td>South East</td>\n",
       "      <td>Bit</td>\n",
       "      <td>10</td>\n",
       "      <td>2500</td>\n",
       "      <td>GBP</td>\n",
       "    </tr>\n",
       "    <tr>\n",
       "      <th>2022-12-05</th>\n",
       "      <td>South East</td>\n",
       "      <td>Casing</td>\n",
       "      <td>16</td>\n",
       "      <td>800</td>\n",
       "      <td>GBP</td>\n",
       "    </tr>\n",
       "    <tr>\n",
       "      <th>2022-12-05</th>\n",
       "      <td>South East</td>\n",
       "      <td>Shank</td>\n",
       "      <td>20</td>\n",
       "      <td>900</td>\n",
       "      <td>GBP</td>\n",
       "    </tr>\n",
       "    <tr>\n",
       "      <th>2022-12-05</th>\n",
       "      <td>South East</td>\n",
       "      <td>Coupling</td>\n",
       "      <td>32</td>\n",
       "      <td>768</td>\n",
       "      <td>GBP</td>\n",
       "    </tr>\n",
       "    <tr>\n",
       "      <th>2022-12-05</th>\n",
       "      <td>South East</td>\n",
       "      <td>Other products</td>\n",
       "      <td>98</td>\n",
       "      <td>980</td>\n",
       "      <td>GBP</td>\n",
       "    </tr>\n",
       "  </tbody>\n",
       "</table>\n",
       "</div>"
      ],
      "text/plain": [
       "              Location        Products  Q'ty  Total sales amount Cur.\n",
       "Date                                                                 \n",
       "2022-12-05  South East             Bit    10                2500  GBP\n",
       "2022-12-05  South East          Casing    16                 800  GBP\n",
       "2022-12-05  South East           Shank    20                 900  GBP\n",
       "2022-12-05  South East        Coupling    32                 768  GBP\n",
       "2022-12-05  South East  Other products    98                 980  GBP"
      ]
     },
     "execution_count": 8,
     "metadata": {},
     "output_type": "execute_result"
    }
   ],
   "source": [
    "south_east_sales = pd.concat([south_east_sales_dec1, \n",
    "                              south_east_sales_dec2, \n",
    "                              south_east_sales_dec3, \n",
    "                              south_east_sales_dec4, \n",
    "                              south_east_sales_dec5], axis=0)\n",
    "south_east_sales = south_east_sales.dropna() # removing NAN values in DataFrame\n",
    "south_east_sales.tail()"
   ]
  },
  {
   "cell_type": "markdown",
   "id": "fe9cd699",
   "metadata": {},
   "source": [
    "## (2) open .csv file"
   ]
  },
  {
   "cell_type": "code",
   "execution_count": 9,
   "id": "f530fa0b",
   "metadata": {},
   "outputs": [
    {
     "name": "stdout",
     "output_type": "stream",
     "text": [
      "['Date', 'Location', 'Products', \"Q'ty\", 'Total sales amount', 'Cur.']\n",
      "['2022-12-01', 'North West', 'Steel', '35', '3500', 'GBP']\n",
      "['2022-12-01', 'North West', 'Rod', '400', '120000', 'GBP']\n",
      "['2022-12-01', 'North West', 'Bit', '15', '3750', 'GBP']\n",
      "['2022-12-01', 'North West', 'Casing', '45', '2250', 'GBP']\n",
      "['2022-12-01', 'North West', 'Shank', '130', '5850', 'GBP']\n",
      "['2022-12-01', 'North West', 'Coupling', '20', '480', 'GBP']\n",
      "['2022-12-01', 'North West', 'Other products', '201', '2010', 'GBP']\n",
      "['2022-12-02', 'North West', 'Steel', '36', '3600', 'GBP']\n",
      "['2022-12-02', 'North West', 'Rod', '450', '135000', 'GBP']\n",
      "['2022-12-02', 'North West', 'Bit', '36', '9000', 'GBP']\n",
      "['2022-12-02', 'North West', 'Casing', '55', '2750', 'GBP']\n",
      "['2022-12-02', 'North West', 'Shank', '160', '7200', 'GBP']\n",
      "['2022-12-02', 'North West', 'Coupling', '15', '360', 'GBP']\n",
      "['2022-12-02', 'North West', 'Other products', '140', '1400', 'GBP']\n",
      "['2022-12-03', 'North West', 'Steel', '45', '4500', 'GBP']\n",
      "['2022-12-03', 'North West', 'Rod', '560', '168000', 'GBP']\n",
      "['2022-12-03', 'North West', 'Bit', '34', '8500', 'GBP']\n",
      "['2022-12-03', 'North West', 'Casing', '55', '2750', 'GBP']\n",
      "['2022-12-03', 'North West', 'Shank', '155', '6975', 'GBP']\n",
      "['2022-12-03', 'North West', 'Coupling', '10', '240', 'GBP']\n",
      "['2022-12-03', 'North West', 'Other products', '170', '1700', 'GBP']\n",
      "['2022-12-04', 'North West', 'Steel', '39', '3900', 'GBP']\n",
      "['2022-12-04', 'North West', 'Rod', '398', '119400', 'GBP']\n",
      "['2022-12-04', 'North West', 'Bit', '36', '9000', 'GBP']\n",
      "['2022-12-04', 'North West', 'Casing', '60', '3000', 'GBP']\n",
      "['2022-12-04', 'North West', 'Shank', '157', '7065', 'GBP']\n",
      "['2022-12-04', 'North West', 'Coupling', '12', '288', 'GBP']\n",
      "['2022-12-04', 'North West', 'Other products', '170', '1700', 'GBP']\n",
      "['2022-12-05', 'North West', 'Steel', '27', '2700', 'GBP']\n",
      "['2022-12-05', 'North West', 'Rod', '369', '110700', 'GBP']\n",
      "['2022-12-05', 'North West', 'Bit', '65', '16250', 'GBP']\n",
      "['2022-12-05', 'North West', 'Casing', '54', '2700', 'GBP']\n",
      "['2022-12-05', 'North West', 'Shank', '145', '6525', 'GBP']\n",
      "['2022-12-05', 'North West', 'Coupling', '50', '1200', 'GBP']\n",
      "['2022-12-05', 'North West', 'Other products', '150', '1500', 'GBP']\n"
     ]
    }
   ],
   "source": [
    "import csv\n",
    " \n",
    "f = open('North West.csv','r')\n",
    "rdr = csv.reader(f)\n",
    " \n",
    "for line in rdr:\n",
    "    print(line)\n",
    " \n",
    "f.close()"
   ]
  },
  {
   "cell_type": "code",
   "execution_count": 10,
   "id": "261cba73",
   "metadata": {},
   "outputs": [],
   "source": [
    "north_west_sales = pd.read_csv(\"North West.csv\", sep=\",\", index_col=0)"
   ]
  },
  {
   "cell_type": "code",
   "execution_count": 11,
   "id": "1d8b3e87",
   "metadata": {
    "scrolled": true
   },
   "outputs": [
    {
     "data": {
      "text/html": [
       "<div>\n",
       "<style scoped>\n",
       "    .dataframe tbody tr th:only-of-type {\n",
       "        vertical-align: middle;\n",
       "    }\n",
       "\n",
       "    .dataframe tbody tr th {\n",
       "        vertical-align: top;\n",
       "    }\n",
       "\n",
       "    .dataframe thead th {\n",
       "        text-align: right;\n",
       "    }\n",
       "</style>\n",
       "<table border=\"1\" class=\"dataframe\">\n",
       "  <thead>\n",
       "    <tr style=\"text-align: right;\">\n",
       "      <th></th>\n",
       "      <th>Location</th>\n",
       "      <th>Products</th>\n",
       "      <th>Q'ty</th>\n",
       "      <th>Total sales amount</th>\n",
       "      <th>Cur.</th>\n",
       "    </tr>\n",
       "    <tr>\n",
       "      <th>Date</th>\n",
       "      <th></th>\n",
       "      <th></th>\n",
       "      <th></th>\n",
       "      <th></th>\n",
       "      <th></th>\n",
       "    </tr>\n",
       "  </thead>\n",
       "  <tbody>\n",
       "    <tr>\n",
       "      <th>2022-12-01</th>\n",
       "      <td>North West</td>\n",
       "      <td>Steel</td>\n",
       "      <td>35</td>\n",
       "      <td>3500</td>\n",
       "      <td>GBP</td>\n",
       "    </tr>\n",
       "    <tr>\n",
       "      <th>2022-12-01</th>\n",
       "      <td>North West</td>\n",
       "      <td>Rod</td>\n",
       "      <td>400</td>\n",
       "      <td>120000</td>\n",
       "      <td>GBP</td>\n",
       "    </tr>\n",
       "    <tr>\n",
       "      <th>2022-12-01</th>\n",
       "      <td>North West</td>\n",
       "      <td>Bit</td>\n",
       "      <td>15</td>\n",
       "      <td>3750</td>\n",
       "      <td>GBP</td>\n",
       "    </tr>\n",
       "    <tr>\n",
       "      <th>2022-12-01</th>\n",
       "      <td>North West</td>\n",
       "      <td>Casing</td>\n",
       "      <td>45</td>\n",
       "      <td>2250</td>\n",
       "      <td>GBP</td>\n",
       "    </tr>\n",
       "    <tr>\n",
       "      <th>2022-12-01</th>\n",
       "      <td>North West</td>\n",
       "      <td>Shank</td>\n",
       "      <td>130</td>\n",
       "      <td>5850</td>\n",
       "      <td>GBP</td>\n",
       "    </tr>\n",
       "  </tbody>\n",
       "</table>\n",
       "</div>"
      ],
      "text/plain": [
       "              Location Products  Q'ty  Total sales amount Cur.\n",
       "Date                                                          \n",
       "2022-12-01  North West    Steel    35                3500  GBP\n",
       "2022-12-01  North West      Rod   400              120000  GBP\n",
       "2022-12-01  North West      Bit    15                3750  GBP\n",
       "2022-12-01  North West   Casing    45                2250  GBP\n",
       "2022-12-01  North West    Shank   130                5850  GBP"
      ]
     },
     "execution_count": 11,
     "metadata": {},
     "output_type": "execute_result"
    }
   ],
   "source": [
    "north_west_sales.head()"
   ]
  },
  {
   "cell_type": "markdown",
   "id": "940ee35b",
   "metadata": {},
   "source": [
    "## (3) open .txt file"
   ]
  },
  {
   "cell_type": "markdown",
   "id": "4f34b846",
   "metadata": {},
   "source": [
    "I assumed that the contents sent through Outlook from the West Midlands office are stored separately as a txt file. Therefore, I wrote a code to save the contents of the txt file in the form of DataFrame"
   ]
  },
  {
   "cell_type": "code",
   "execution_count": 12,
   "id": "a9010ff2",
   "metadata": {
    "scrolled": true
   },
   "outputs": [
    {
     "name": "stdout",
     "output_type": "stream",
     "text": [
      "Dear team,\n",
      " \n",
      "Please see the sales data for 1st December as below.\n",
      " \n",
      "Date         Location   Products  Q'ty          Total sales amount  Cur.\n",
      "01/12/2022              West Midlands         Steel         25             2500         GBP\n",
      "01/12/2022              West Midlands         Rod           350           105000    GBP\n",
      "01/12/2022              West Midlands         Bit             10             2500         GBP\n",
      "01/12/2022              West Midlands         Casing      40             2000         GBP\n",
      "01/12/2022              West Midlands         Shank       210           9450         GBP\n",
      "01/12/2022              West Midlands         Coupling  20             480           GBP\n",
      "01/12/2022              West Midlands         Other products        219           2190         GBP\n",
      "02/12/2022              West Midlands         Steel         36             3600         GBP\n",
      "02/12/2022              West Midlands         Rod           330           99000      GBP\n",
      "02/12/2022              West Midlands         Bit             20             5000         GBP\n",
      "02/12/2022              West Midlands         Casing      50             2500         GBP\n",
      "02/12/2022              West Midlands         Shank       45             2025         GBP\n",
      "02/12/2022              West Midlands         Coupling  10             240           GBP\n",
      "02/12/2022              West Midlands         Other products        213           2130         GBP\n",
      "03/12/2022              West Midlands         Steel         36             3600         GBP\n",
      "03/12/2022              West Midlands         Rod           62             18600      GBP\n",
      "03/12/2022              West Midlands         Bit             63             15750      GBP\n",
      "03/12/2022              West Midlands         Casing      58             2900         GBP\n",
      "03/12/2022              West Midlands         Shank       133           5985         GBP\n",
      "03/12/2022              West Midlands         Coupling  8                192           GBP\n",
      "03/12/2022              West Midlands         Other products        12             120           GBP\n",
      "04/12/2022              West Midlands         Steel         63             6300         GBP\n",
      "04/12/2022              West Midlands         Rod           244           73200      GBP\n",
      "04/12/2022              West Midlands         Bit             52             13000      GBP\n",
      "04/12/2022              West Midlands         Casing      63             3150         GBP\n",
      "04/12/2022              West Midlands         Shank       147           6615         GBP\n",
      "04/12/2022              West Midlands         Coupling  56             1344         GBP\n",
      "04/12/2022              West Midlands         Other products        140           1400         GBP\n",
      "05/12/2022              West Midlands         Steel         25             2500         GBP\n",
      "05/12/2022              West Midlands         Rod           366           109800    GBP\n",
      "05/12/2022              West Midlands         Bit             24             6000         GBP\n",
      "05/12/2022              West Midlands         Casing      45             2250         GBP\n",
      "05/12/2022              West Midlands         Shank       136           6120         GBP\n",
      "05/12/2022              West Midlands         Coupling  45             1080         GBP\n",
      "05/12/2022              West Midlands         Other products        145           1450         GBP\n",
      " \n",
      " \n",
      "Thank you.\n",
      " \n",
      " \n",
      "Best Regards,\n",
      "Haewon Sim\n"
     ]
    }
   ],
   "source": [
    "f = open(\"Sales Data - Dec 1.txt\", \"r\")\n",
    "print(f.read())"
   ]
  },
  {
   "cell_type": "code",
   "execution_count": 13,
   "id": "94647295",
   "metadata": {
    "scrolled": false
   },
   "outputs": [
    {
     "data": {
      "text/html": [
       "<div>\n",
       "<style scoped>\n",
       "    .dataframe tbody tr th:only-of-type {\n",
       "        vertical-align: middle;\n",
       "    }\n",
       "\n",
       "    .dataframe tbody tr th {\n",
       "        vertical-align: top;\n",
       "    }\n",
       "\n",
       "    .dataframe thead th {\n",
       "        text-align: right;\n",
       "    }\n",
       "</style>\n",
       "<table border=\"1\" class=\"dataframe\">\n",
       "  <thead>\n",
       "    <tr style=\"text-align: right;\">\n",
       "      <th></th>\n",
       "      <th>Date</th>\n",
       "      <th>Location</th>\n",
       "      <th>Products</th>\n",
       "      <th>Q'ty</th>\n",
       "      <th>Total</th>\n",
       "      <th>sales</th>\n",
       "      <th>amount</th>\n",
       "      <th>Cur.</th>\n",
       "    </tr>\n",
       "  </thead>\n",
       "  <tbody>\n",
       "    <tr>\n",
       "      <th>0</th>\n",
       "      <td>01/12/2022</td>\n",
       "      <td>West</td>\n",
       "      <td>Midlands</td>\n",
       "      <td>Steel</td>\n",
       "      <td>25</td>\n",
       "      <td>2500</td>\n",
       "      <td>GBP</td>\n",
       "      <td>NaN</td>\n",
       "    </tr>\n",
       "    <tr>\n",
       "      <th>1</th>\n",
       "      <td>01/12/2022</td>\n",
       "      <td>West</td>\n",
       "      <td>Midlands</td>\n",
       "      <td>Rod</td>\n",
       "      <td>350</td>\n",
       "      <td>105000</td>\n",
       "      <td>GBP</td>\n",
       "      <td>NaN</td>\n",
       "    </tr>\n",
       "    <tr>\n",
       "      <th>2</th>\n",
       "      <td>01/12/2022</td>\n",
       "      <td>West</td>\n",
       "      <td>Midlands</td>\n",
       "      <td>Bit</td>\n",
       "      <td>10</td>\n",
       "      <td>2500</td>\n",
       "      <td>GBP</td>\n",
       "      <td>NaN</td>\n",
       "    </tr>\n",
       "    <tr>\n",
       "      <th>3</th>\n",
       "      <td>01/12/2022</td>\n",
       "      <td>West</td>\n",
       "      <td>Midlands</td>\n",
       "      <td>Casing</td>\n",
       "      <td>40</td>\n",
       "      <td>2000</td>\n",
       "      <td>GBP</td>\n",
       "      <td>NaN</td>\n",
       "    </tr>\n",
       "    <tr>\n",
       "      <th>4</th>\n",
       "      <td>01/12/2022</td>\n",
       "      <td>West</td>\n",
       "      <td>Midlands</td>\n",
       "      <td>Shank</td>\n",
       "      <td>210</td>\n",
       "      <td>9450</td>\n",
       "      <td>GBP</td>\n",
       "      <td>NaN</td>\n",
       "    </tr>\n",
       "    <tr>\n",
       "      <th>5</th>\n",
       "      <td>01/12/2022</td>\n",
       "      <td>West</td>\n",
       "      <td>Midlands</td>\n",
       "      <td>Coupling</td>\n",
       "      <td>20</td>\n",
       "      <td>480</td>\n",
       "      <td>GBP</td>\n",
       "      <td>NaN</td>\n",
       "    </tr>\n",
       "    <tr>\n",
       "      <th>6</th>\n",
       "      <td>01/12/2022</td>\n",
       "      <td>West</td>\n",
       "      <td>Midlands</td>\n",
       "      <td>Other</td>\n",
       "      <td>products</td>\n",
       "      <td>219</td>\n",
       "      <td>2190</td>\n",
       "      <td>GBP</td>\n",
       "    </tr>\n",
       "    <tr>\n",
       "      <th>7</th>\n",
       "      <td>02/12/2022</td>\n",
       "      <td>West</td>\n",
       "      <td>Midlands</td>\n",
       "      <td>Steel</td>\n",
       "      <td>36</td>\n",
       "      <td>3600</td>\n",
       "      <td>GBP</td>\n",
       "      <td>NaN</td>\n",
       "    </tr>\n",
       "    <tr>\n",
       "      <th>8</th>\n",
       "      <td>02/12/2022</td>\n",
       "      <td>West</td>\n",
       "      <td>Midlands</td>\n",
       "      <td>Rod</td>\n",
       "      <td>330</td>\n",
       "      <td>99000</td>\n",
       "      <td>GBP</td>\n",
       "      <td>NaN</td>\n",
       "    </tr>\n",
       "    <tr>\n",
       "      <th>9</th>\n",
       "      <td>02/12/2022</td>\n",
       "      <td>West</td>\n",
       "      <td>Midlands</td>\n",
       "      <td>Bit</td>\n",
       "      <td>20</td>\n",
       "      <td>5000</td>\n",
       "      <td>GBP</td>\n",
       "      <td>NaN</td>\n",
       "    </tr>\n",
       "  </tbody>\n",
       "</table>\n",
       "</div>"
      ],
      "text/plain": [
       "              Date         Location           Products     Q'ty           \\\n",
       "0  01/12/2022                    West  Midlands            Steel           \n",
       "1  01/12/2022                    West  Midlands            Rod             \n",
       "2  01/12/2022                    West  Midlands          Bit               \n",
       "3  01/12/2022                    West  Midlands              Casing        \n",
       "4  01/12/2022                    West  Midlands              Shank         \n",
       "5  01/12/2022                    West  Midlands                Coupling    \n",
       "6  01/12/2022                    West  Midlands                    Other   \n",
       "7  02/12/2022                    West  Midlands            Steel           \n",
       "8  02/12/2022                    West  Midlands            Rod             \n",
       "9  02/12/2022                    West  Midlands          Bit               \n",
       "\n",
       "             Total          sales       amount  Cur.  \n",
       "0   25               2500                   GBP  NaN  \n",
       "1    350                105000              GBP  NaN  \n",
       "2   10               2500                   GBP  NaN  \n",
       "3   40               2000                   GBP  NaN  \n",
       "4    210             9450                   GBP  NaN  \n",
       "5   20              480                     GBP  NaN  \n",
       "6  products         219            2190          GBP  \n",
       "7   36               3600                   GBP  NaN  \n",
       "8    330               99000                GBP  NaN  \n",
       "9   20               5000                   GBP  NaN  "
      ]
     },
     "execution_count": 13,
     "metadata": {},
     "output_type": "execute_result"
    }
   ],
   "source": [
    "WM_data = pd.read_csv(\"Sales Data - Dec 1.txt\", header=4, delimiter=r\"\\s+\")\n",
    "WM_data.head(10)\n",
    "\n",
    "# The column has been divided by space. (delimiter)"
   ]
  },
  {
   "cell_type": "code",
   "execution_count": 14,
   "id": "244d81a2",
   "metadata": {
    "scrolled": true
   },
   "outputs": [
    {
     "name": "stdout",
     "output_type": "stream",
     "text": [
      "<class 'pandas.core.frame.DataFrame'>\n",
      "RangeIndex: 42 entries, 0 to 41\n",
      "Data columns (total 8 columns):\n",
      " #   Column         Non-Null Count  Dtype \n",
      "---  ------         --------------  ----- \n",
      " 0   Date           42 non-null     object\n",
      " 1   Location       38 non-null     object\n",
      " 2   Products       35 non-null     object\n",
      " 3   Q'ty           35 non-null     object\n",
      " 4   Total          35 non-null     object\n",
      " 5   sales          35 non-null     object\n",
      " 6   amount         35 non-null     object\n",
      " 7   Cur.           5 non-null      object\n",
      "dtypes: object(8)\n",
      "memory usage: 2.8+ KB\n"
     ]
    }
   ],
   "source": [
    "WM_data.info()\n",
    "# Since data is classified through space,\n",
    "# data needed to be cleaned and rearranged."
   ]
  },
  {
   "cell_type": "code",
   "execution_count": 15,
   "id": "6e7a353d",
   "metadata": {},
   "outputs": [],
   "source": [
    "def strip_series(series):\n",
    "    for i in range(len(series)):\n",
    "        series[i] = series[i].strip()\n",
    "        \n",
    "    return series\n",
    "\n",
    "# Originally it should have been divided as per cell, \n",
    "# but each cell has unnecessary spaces. \n",
    "# I now need to add a function to eliminate this space created."
   ]
  },
  {
   "cell_type": "code",
   "execution_count": 16,
   "id": "f2bb5bea",
   "metadata": {},
   "outputs": [],
   "source": [
    "Date = WM_data.iloc[:35, 0]\n",
    "Date = Date.rename(\"Date\")\n",
    "Date = strip_series(Date) # unnecessary space should be deleted."
   ]
  },
  {
   "cell_type": "code",
   "execution_count": 17,
   "id": "d8e1c6dd",
   "metadata": {},
   "outputs": [
    {
     "data": {
      "text/plain": [
       "0    West Midlands\n",
       "1    West Midlands\n",
       "2    West Midlands\n",
       "3    West Midlands\n",
       "4    West Midlands\n",
       "Name: Location, dtype: object"
      ]
     },
     "execution_count": 17,
     "metadata": {},
     "output_type": "execute_result"
    }
   ],
   "source": [
    "Location = WM_data.iloc[:35, 1:3]\n",
    "Location = Location.iloc[:, 0] + \" \" + Location.iloc[:, 1] \n",
    "# Data split into West and Midlands are combined and stored in 'Location'\n",
    "\n",
    "Location = Location.rename(\"Location\") \n",
    "# Set a name to define a column name when it is merged into DataFrame\n",
    "\n",
    "Location = strip_series(Location) \n",
    "# deleted unnecessary space\n",
    "\n",
    "Location.head()"
   ]
  },
  {
   "cell_type": "code",
   "execution_count": 18,
   "id": "4c234bec",
   "metadata": {},
   "outputs": [
    {
     "data": {
      "text/plain": [
       "0      Steel        \n",
       "1      Rod          \n",
       "2    Bit            \n",
       "3        Casing     \n",
       "4        Shank      \n",
       "5          Coupling \n",
       "6              Other\n",
       "Name: Q'ty         , dtype: object"
      ]
     },
     "execution_count": 18,
     "metadata": {},
     "output_type": "execute_result"
    }
   ],
   "source": [
    "Products = WM_data.iloc[:35, 3]\n",
    "Products.head(7) # I can check if the unnecessary data exist."
   ]
  },
  {
   "cell_type": "code",
   "execution_count": 19,
   "id": "39b4e350",
   "metadata": {},
   "outputs": [
    {
     "data": {
      "text/plain": [
       "0             Steel\n",
       "1               Rod\n",
       "2               Bit\n",
       "3            Casing\n",
       "4             Shank\n",
       "5          Coupling\n",
       "6    Other products\n",
       "Name: Products, dtype: object"
      ]
     },
     "execution_count": 19,
     "metadata": {},
     "output_type": "execute_result"
    }
   ],
   "source": [
    "for i in range(len(Products)):\n",
    "    Products[i] = Products[i].strip() # deleted unnecessary data\n",
    "    if Products[i] == 'Other': # finding 'Other' rows\n",
    "        Products[i] = 'Other' +\" \" + 'products' # adding 'products' to 'Other' rows.\n",
    "        \n",
    "Products = Products.rename(\"Products\") # renamed\n",
    "Products.head(7)"
   ]
  },
  {
   "cell_type": "code",
   "execution_count": 20,
   "id": "d6eb37e0",
   "metadata": {},
   "outputs": [
    {
     "data": {
      "text/plain": [
       "0          25\n",
       "1         350\n",
       "2          10\n",
       "3          40\n",
       "4         210\n",
       "5          20\n",
       "6    products\n",
       "Name: Total, dtype: object"
      ]
     },
     "execution_count": 20,
     "metadata": {},
     "output_type": "execute_result"
    }
   ],
   "source": [
    "Q_ty = WM_data.iloc[:35, 4] \n",
    "Q_ty = strip_series(Q_ty)\n",
    "Q_ty.head(7) \n",
    "# You can see that data is backed up each column in the 6th row."
   ]
  },
  {
   "cell_type": "code",
   "execution_count": 21,
   "id": "9d508523",
   "metadata": {},
   "outputs": [
    {
     "data": {
      "text/plain": [
       "0     2500        \n",
       "1        105000   \n",
       "2     2500        \n",
       "3     2000        \n",
       "4     9450        \n",
       "5    480          \n",
       "6    219          \n",
       "Name: sales, dtype: object"
      ]
     },
     "execution_count": 21,
     "metadata": {},
     "output_type": "execute_result"
    }
   ],
   "source": [
    "Total_sales_amount = WM_data.iloc[:35, 5]\n",
    "Total_sales_amount.head(7)\n",
    "# Likewise, in the 6th row, \n",
    "# value 219 should go to Q'ty, \n",
    "# but it is stored in total_sales."
   ]
  },
  {
   "cell_type": "code",
   "execution_count": 22,
   "id": "ed9e058c",
   "metadata": {},
   "outputs": [
    {
     "data": {
      "text/plain": [
       "0             GBP\n",
       "1             GBP\n",
       "2             GBP\n",
       "3             GBP\n",
       "4             GBP\n",
       "5             GBP\n",
       "6    2190        \n",
       "Name: amount , dtype: object"
      ]
     },
     "execution_count": 22,
     "metadata": {},
     "output_type": "execute_result"
    }
   ],
   "source": [
    "Cur = WM_data.iloc[:35, 6]\n",
    "Cur.head(7) # needed to edit 6th row"
   ]
  },
  {
   "cell_type": "code",
   "execution_count": 23,
   "id": "b23a745e",
   "metadata": {},
   "outputs": [],
   "source": [
    "for i in range(len(Q_ty)): \n",
    "    # removing unnecessary space\n",
    "    Q_ty[i] = Q_ty[i].strip() \n",
    "    Total_sales_amount[i] = Total_sales_amount[i].strip()\n",
    "    Cur[i] = Cur[i].strip()\n",
    "    \n",
    "    if Q_ty[i] == 'products': # finding the row which has an issue\n",
    "        Q_ty[i] = Total_sales_amount[i] # bringing each column to previous column\n",
    "        Total_sales_amount[i] = Cur[i]\n",
    "        Cur[i] = 'GBP' # editing figure value to GBP"
   ]
  },
  {
   "cell_type": "code",
   "execution_count": 24,
   "id": "fbb6c991",
   "metadata": {
    "scrolled": false
   },
   "outputs": [
    {
     "data": {
      "text/plain": [
       "0     25\n",
       "1    350\n",
       "2     10\n",
       "3     40\n",
       "4    210\n",
       "5     20\n",
       "6    219\n",
       "Name: Q'ty, dtype: object"
      ]
     },
     "execution_count": 24,
     "metadata": {},
     "output_type": "execute_result"
    }
   ],
   "source": [
    "Q_ty = Q_ty.rename(\"Q\"+str(\"'\")+\"ty\")\n",
    "Q_ty.head(7)"
   ]
  },
  {
   "cell_type": "code",
   "execution_count": 25,
   "id": "00a0d6a7",
   "metadata": {},
   "outputs": [
    {
     "data": {
      "text/plain": [
       "0      2500\n",
       "1    105000\n",
       "2      2500\n",
       "3      2000\n",
       "4      9450\n",
       "5       480\n",
       "6      2190\n",
       "Name: Total sales amount, dtype: object"
      ]
     },
     "execution_count": 25,
     "metadata": {},
     "output_type": "execute_result"
    }
   ],
   "source": [
    "Total_sales_amount = Total_sales_amount.rename(\"Total sales amount\")\n",
    "Total_sales_amount.head(7)"
   ]
  },
  {
   "cell_type": "code",
   "execution_count": 26,
   "id": "cdecb389",
   "metadata": {},
   "outputs": [
    {
     "data": {
      "text/plain": [
       "0    GBP\n",
       "1    GBP\n",
       "2    GBP\n",
       "3    GBP\n",
       "4    GBP\n",
       "5    GBP\n",
       "6    GBP\n",
       "Name: Cur., dtype: object"
      ]
     },
     "execution_count": 26,
     "metadata": {},
     "output_type": "execute_result"
    }
   ],
   "source": [
    "Cur = Cur.rename(\"Cur.\")\n",
    "Cur.head(7)"
   ]
  },
  {
   "cell_type": "code",
   "execution_count": 27,
   "id": "9a172165",
   "metadata": {},
   "outputs": [],
   "source": [
    "west_midlands_sales = pd.concat([Date, Location, Products, Q_ty, Total_sales_amount, Cur], axis=1) #combining data"
   ]
  },
  {
   "cell_type": "code",
   "execution_count": 28,
   "id": "21c3c5fa",
   "metadata": {},
   "outputs": [],
   "source": [
    "west_midlands_sales = west_midlands_sales.set_index('Date', drop=True)\n",
    "west_midlands_sales.index = pd.to_datetime(west_midlands_sales.index, \n",
    "                                                format=\"%d/%m/%Y\", utc=True).strftime(\"%Y-%m-%d\") \n",
    "\n",
    "# changing 'Date' as index\n",
    "# changing 'Date' index to datetime[64].ns"
   ]
  },
  {
   "cell_type": "code",
   "execution_count": 29,
   "id": "9b75ccbf",
   "metadata": {},
   "outputs": [
    {
     "data": {
      "text/html": [
       "<div>\n",
       "<style scoped>\n",
       "    .dataframe tbody tr th:only-of-type {\n",
       "        vertical-align: middle;\n",
       "    }\n",
       "\n",
       "    .dataframe tbody tr th {\n",
       "        vertical-align: top;\n",
       "    }\n",
       "\n",
       "    .dataframe thead th {\n",
       "        text-align: right;\n",
       "    }\n",
       "</style>\n",
       "<table border=\"1\" class=\"dataframe\">\n",
       "  <thead>\n",
       "    <tr style=\"text-align: right;\">\n",
       "      <th></th>\n",
       "      <th>Location</th>\n",
       "      <th>Products</th>\n",
       "      <th>Q'ty</th>\n",
       "      <th>Total sales amount</th>\n",
       "      <th>Cur.</th>\n",
       "    </tr>\n",
       "    <tr>\n",
       "      <th>Date</th>\n",
       "      <th></th>\n",
       "      <th></th>\n",
       "      <th></th>\n",
       "      <th></th>\n",
       "      <th></th>\n",
       "    </tr>\n",
       "  </thead>\n",
       "  <tbody>\n",
       "    <tr>\n",
       "      <th>2022-12-01</th>\n",
       "      <td>West Midlands</td>\n",
       "      <td>Steel</td>\n",
       "      <td>25</td>\n",
       "      <td>2500</td>\n",
       "      <td>GBP</td>\n",
       "    </tr>\n",
       "    <tr>\n",
       "      <th>2022-12-01</th>\n",
       "      <td>West Midlands</td>\n",
       "      <td>Rod</td>\n",
       "      <td>350</td>\n",
       "      <td>105000</td>\n",
       "      <td>GBP</td>\n",
       "    </tr>\n",
       "    <tr>\n",
       "      <th>2022-12-01</th>\n",
       "      <td>West Midlands</td>\n",
       "      <td>Bit</td>\n",
       "      <td>10</td>\n",
       "      <td>2500</td>\n",
       "      <td>GBP</td>\n",
       "    </tr>\n",
       "    <tr>\n",
       "      <th>2022-12-01</th>\n",
       "      <td>West Midlands</td>\n",
       "      <td>Casing</td>\n",
       "      <td>40</td>\n",
       "      <td>2000</td>\n",
       "      <td>GBP</td>\n",
       "    </tr>\n",
       "    <tr>\n",
       "      <th>2022-12-01</th>\n",
       "      <td>West Midlands</td>\n",
       "      <td>Shank</td>\n",
       "      <td>210</td>\n",
       "      <td>9450</td>\n",
       "      <td>GBP</td>\n",
       "    </tr>\n",
       "  </tbody>\n",
       "</table>\n",
       "</div>"
      ],
      "text/plain": [
       "                 Location Products Q'ty Total sales amount Cur.\n",
       "Date                                                           \n",
       "2022-12-01  West Midlands    Steel   25               2500  GBP\n",
       "2022-12-01  West Midlands      Rod  350             105000  GBP\n",
       "2022-12-01  West Midlands      Bit   10               2500  GBP\n",
       "2022-12-01  West Midlands   Casing   40               2000  GBP\n",
       "2022-12-01  West Midlands    Shank  210               9450  GBP"
      ]
     },
     "execution_count": 29,
     "metadata": {},
     "output_type": "execute_result"
    }
   ],
   "source": [
    "west_midlands_sales.head()"
   ]
  },
  {
   "cell_type": "markdown",
   "id": "e0031c1d",
   "metadata": {},
   "source": [
    "## 2. Combine DataFrame"
   ]
  },
  {
   "cell_type": "markdown",
   "id": "8742c5f6",
   "metadata": {},
   "source": [
    "I can combine above DataFrame from each file to one DataFrame."
   ]
  },
  {
   "cell_type": "code",
   "execution_count": 30,
   "id": "388cc7b8",
   "metadata": {},
   "outputs": [
    {
     "name": "stderr",
     "output_type": "stream",
     "text": [
      "/var/folders/yf/90zg2cds6f9806s1hj9s0qs40000gn/T/ipykernel_3900/4115120140.py:8: FutureWarning: Inferring datetime64[ns] from data containing strings is deprecated and will be removed in a future version. To retain the old behavior explicitly pass Series(data, dtype=datetime64[ns])\n",
      "  total_sales.index = pd.to_datetime(total_sales.index, format='%Y-%m-%d').strftime('%Y-%m-%d')\n"
     ]
    }
   ],
   "source": [
    "# combining all dataframe\n",
    "total_sales = pd.concat([london_sales, \n",
    "                         south_east_sales, \n",
    "                         north_west_sales, \n",
    "                         west_midlands_sales], axis=0)\n",
    "\n",
    "# setting the index\n",
    "total_sales.index = pd.to_datetime(total_sales.index, format='%Y-%m-%d').strftime('%Y-%m-%d')"
   ]
  },
  {
   "cell_type": "code",
   "execution_count": 31,
   "id": "cde01786",
   "metadata": {},
   "outputs": [
    {
     "name": "stdout",
     "output_type": "stream",
     "text": [
      "<class 'pandas.core.frame.DataFrame'>\n",
      "Index: 140 entries, 2022-12-01 to 2022-12-05\n",
      "Data columns (total 5 columns):\n",
      " #   Column              Non-Null Count  Dtype \n",
      "---  ------              --------------  ----- \n",
      " 0   Location            140 non-null    object\n",
      " 1   Products            140 non-null    object\n",
      " 2   Q'ty                140 non-null    object\n",
      " 3   Total sales amount  140 non-null    object\n",
      " 4   Cur.                140 non-null    object\n",
      "dtypes: object(5)\n",
      "memory usage: 6.6+ KB\n"
     ]
    }
   ],
   "source": [
    "total_sales.info()\n",
    "\n",
    "# Amended Q'ty and total_sales_amount to int type"
   ]
  },
  {
   "cell_type": "code",
   "execution_count": 32,
   "id": "e2efe31a",
   "metadata": {},
   "outputs": [],
   "source": [
    "# changing to figure data\n",
    "total_sales['''Q'ty'''] = pd.to_numeric(total_sales['''Q'ty''']) \n",
    "total_sales['Total sales amount'] = pd.to_numeric(total_sales['Total sales amount'])"
   ]
  },
  {
   "cell_type": "code",
   "execution_count": 33,
   "id": "47231f3f",
   "metadata": {
    "scrolled": true
   },
   "outputs": [
    {
     "name": "stdout",
     "output_type": "stream",
     "text": [
      "<class 'pandas.core.frame.DataFrame'>\n",
      "Index: 140 entries, 2022-12-01 to 2022-12-05\n",
      "Data columns (total 5 columns):\n",
      " #   Column              Non-Null Count  Dtype \n",
      "---  ------              --------------  ----- \n",
      " 0   Location            140 non-null    object\n",
      " 1   Products            140 non-null    object\n",
      " 2   Q'ty                140 non-null    int64 \n",
      " 3   Total sales amount  140 non-null    int64 \n",
      " 4   Cur.                140 non-null    object\n",
      "dtypes: int64(2), object(3)\n",
      "memory usage: 6.6+ KB\n"
     ]
    }
   ],
   "source": [
    "total_sales.info()\n",
    "\n",
    "# Confirmed changes"
   ]
  },
  {
   "cell_type": "code",
   "execution_count": 34,
   "id": "96f95c79",
   "metadata": {},
   "outputs": [
    {
     "name": "stdout",
     "output_type": "stream",
     "text": [
      "                 Location        Products  Q'ty  Total sales amount Cur.\n",
      "Date                                                                    \n",
      "2022-12-01         London           Steel    43                4300  GBP\n",
      "2022-12-01         London             Rod   533              159900  GBP\n",
      "2022-12-01         London             Bit    17                4250  GBP\n",
      "2022-12-01         London          Casing    30                1500  GBP\n",
      "2022-12-01         London           Shank    42                1890  GBP\n",
      "2022-12-01         London        Coupling   120                2880  GBP\n",
      "2022-12-01         London  Other products   232                2320  GBP\n",
      "2022-12-02         London           Steel    45                4500  GBP\n",
      "2022-12-02         London             Rod   650              195000  GBP\n",
      "2022-12-02         London             Bit    20                5000  GBP\n",
      "2022-12-02         London          Casing    25                1250  GBP\n",
      "2022-12-02         London           Shank    35                1575  GBP\n",
      "2022-12-02         London        Coupling   140                3360  GBP\n",
      "2022-12-02         London  Other products   295                2950  GBP\n",
      "2022-12-03         London           Steel    35                3500  GBP\n",
      "2022-12-03         London             Rod   540              162000  GBP\n",
      "2022-12-03         London             Bit    15                3750  GBP\n",
      "2022-12-03         London          Casing    26                1300  GBP\n",
      "2022-12-03         London           Shank    40                1800  GBP\n",
      "2022-12-03         London        Coupling   110                2640  GBP\n",
      "2022-12-03         London  Other products   340                3400  GBP\n",
      "2022-12-04         London           Steel    40                4000  GBP\n",
      "2022-12-04         London             Rod   560              168000  GBP\n",
      "2022-12-04         London             Bit    25                6250  GBP\n",
      "2022-12-04         London          Casing    25                1250  GBP\n",
      "2022-12-04         London           Shank    32                1440  GBP\n",
      "2022-12-04         London        Coupling    22                 528  GBP\n",
      "2022-12-04         London  Other products   320                3200  GBP\n",
      "2022-12-05         London           Steel    42                4200  GBP\n",
      "2022-12-05         London             Rod   554              166200  GBP\n",
      "2022-12-05         London             Bit    39                9750  GBP\n",
      "2022-12-05         London          Casing    28                1400  GBP\n",
      "2022-12-05         London           Shank    35                1575  GBP\n",
      "2022-12-05         London        Coupling    28                 672  GBP\n",
      "2022-12-05         London  Other products   310                3100  GBP\n",
      "2022-12-01     South East           Steel    20                2000  GBP\n",
      "2022-12-01     South East             Rod   300              159900  GBP\n",
      "2022-12-01     South East             Bit    15                4250  GBP\n",
      "2022-12-01     South East          Casing    18                1500  GBP\n",
      "2022-12-01     South East           Shank    32                1890  GBP\n",
      "2022-12-01     South East        Coupling    52                2880  GBP\n",
      "2022-12-01     South East  Other products   123                2320  GBP\n",
      "2022-12-02     South East           Steel    33                3300  GBP\n",
      "2022-12-02     South East             Rod   230               69000  GBP\n",
      "2022-12-02     South East             Bit    10                2500  GBP\n",
      "2022-12-02     South East          Casing    15                 750  GBP\n",
      "2022-12-02     South East           Shank    20                 900  GBP\n",
      "2022-12-02     South East        Coupling    80                1920  GBP\n",
      "2022-12-02     South East  Other products   295                2950  GBP\n",
      "2022-12-03     South East           Steel    29                2900  GBP\n",
      "2022-12-03     South East             Rod   245               73500  GBP\n",
      "2022-12-03     South East             Bit    25                6250  GBP\n",
      "2022-12-03     South East          Casing    30                1500  GBP\n",
      "2022-12-03     South East           Shank    30                1350  GBP\n",
      "2022-12-03     South East        Coupling   120                2880  GBP\n",
      "2022-12-03     South East  Other products   340                3400  GBP\n",
      "2022-12-04     South East           Steel    30                3000  GBP\n",
      "2022-12-04     South East             Rod   456              136800  GBP\n",
      "2022-12-04     South East             Bit    23                5750  GBP\n",
      "2022-12-04     South East          Casing    25                1250  GBP\n",
      "2022-12-04     South East           Shank    20                 900  GBP\n",
      "2022-12-04     South East        Coupling    19                 456  GBP\n",
      "2022-12-04     South East  Other products   145                1450  GBP\n",
      "2022-12-05     South East           Steel    20                2000  GBP\n",
      "2022-12-05     South East             Rod   145               43500  GBP\n",
      "2022-12-05     South East             Bit    10                2500  GBP\n",
      "2022-12-05     South East          Casing    16                 800  GBP\n",
      "2022-12-05     South East           Shank    20                 900  GBP\n",
      "2022-12-05     South East        Coupling    32                 768  GBP\n",
      "2022-12-05     South East  Other products    98                 980  GBP\n",
      "2022-12-01     North West           Steel    35                3500  GBP\n",
      "2022-12-01     North West             Rod   400              120000  GBP\n",
      "2022-12-01     North West             Bit    15                3750  GBP\n",
      "2022-12-01     North West          Casing    45                2250  GBP\n",
      "2022-12-01     North West           Shank   130                5850  GBP\n",
      "2022-12-01     North West        Coupling    20                 480  GBP\n",
      "2022-12-01     North West  Other products   201                2010  GBP\n",
      "2022-12-02     North West           Steel    36                3600  GBP\n",
      "2022-12-02     North West             Rod   450              135000  GBP\n",
      "2022-12-02     North West             Bit    36                9000  GBP\n",
      "2022-12-02     North West          Casing    55                2750  GBP\n",
      "2022-12-02     North West           Shank   160                7200  GBP\n",
      "2022-12-02     North West        Coupling    15                 360  GBP\n",
      "2022-12-02     North West  Other products   140                1400  GBP\n",
      "2022-12-03     North West           Steel    45                4500  GBP\n",
      "2022-12-03     North West             Rod   560              168000  GBP\n",
      "2022-12-03     North West             Bit    34                8500  GBP\n",
      "2022-12-03     North West          Casing    55                2750  GBP\n",
      "2022-12-03     North West           Shank   155                6975  GBP\n",
      "2022-12-03     North West        Coupling    10                 240  GBP\n",
      "2022-12-03     North West  Other products   170                1700  GBP\n",
      "2022-12-04     North West           Steel    39                3900  GBP\n",
      "2022-12-04     North West             Rod   398              119400  GBP\n",
      "2022-12-04     North West             Bit    36                9000  GBP\n",
      "2022-12-04     North West          Casing    60                3000  GBP\n",
      "2022-12-04     North West           Shank   157                7065  GBP\n",
      "2022-12-04     North West        Coupling    12                 288  GBP\n",
      "2022-12-04     North West  Other products   170                1700  GBP\n",
      "2022-12-05     North West           Steel    27                2700  GBP\n",
      "2022-12-05     North West             Rod   369              110700  GBP\n",
      "2022-12-05     North West             Bit    65               16250  GBP\n",
      "2022-12-05     North West          Casing    54                2700  GBP\n",
      "2022-12-05     North West           Shank   145                6525  GBP\n",
      "2022-12-05     North West        Coupling    50                1200  GBP\n",
      "2022-12-05     North West  Other products   150                1500  GBP\n",
      "2022-12-01  West Midlands           Steel    25                2500  GBP\n",
      "2022-12-01  West Midlands             Rod   350              105000  GBP\n",
      "2022-12-01  West Midlands             Bit    10                2500  GBP\n",
      "2022-12-01  West Midlands          Casing    40                2000  GBP\n",
      "2022-12-01  West Midlands           Shank   210                9450  GBP\n",
      "2022-12-01  West Midlands        Coupling    20                 480  GBP\n",
      "2022-12-01  West Midlands  Other products   219                2190  GBP\n",
      "2022-12-02  West Midlands           Steel    36                3600  GBP\n",
      "2022-12-02  West Midlands             Rod   330               99000  GBP\n",
      "2022-12-02  West Midlands             Bit    20                5000  GBP\n",
      "2022-12-02  West Midlands          Casing    50                2500  GBP\n",
      "2022-12-02  West Midlands           Shank    45                2025  GBP\n",
      "2022-12-02  West Midlands        Coupling    10                 240  GBP\n",
      "2022-12-02  West Midlands  Other products   213                2130  GBP\n",
      "2022-12-03  West Midlands           Steel    36                3600  GBP\n",
      "2022-12-03  West Midlands             Rod    62               18600  GBP\n",
      "2022-12-03  West Midlands             Bit    63               15750  GBP\n",
      "2022-12-03  West Midlands          Casing    58                2900  GBP\n",
      "2022-12-03  West Midlands           Shank   133                5985  GBP\n",
      "2022-12-03  West Midlands        Coupling     8                 192  GBP\n",
      "2022-12-03  West Midlands  Other products    12                 120  GBP\n",
      "2022-12-04  West Midlands           Steel    63                6300  GBP\n",
      "2022-12-04  West Midlands             Rod   244               73200  GBP\n",
      "2022-12-04  West Midlands             Bit    52               13000  GBP\n",
      "2022-12-04  West Midlands          Casing    63                3150  GBP\n",
      "2022-12-04  West Midlands           Shank   147                6615  GBP\n",
      "2022-12-04  West Midlands        Coupling    56                1344  GBP\n",
      "2022-12-04  West Midlands  Other products   140                1400  GBP\n",
      "2022-12-05  West Midlands           Steel    25                2500  GBP\n",
      "2022-12-05  West Midlands             Rod   366              109800  GBP\n",
      "2022-12-05  West Midlands             Bit    24                6000  GBP\n",
      "2022-12-05  West Midlands          Casing    45                2250  GBP\n",
      "2022-12-05  West Midlands           Shank   136                6120  GBP\n",
      "2022-12-05  West Midlands        Coupling    45                1080  GBP\n",
      "2022-12-05  West Midlands  Other products   145                1450  GBP\n"
     ]
    }
   ],
   "source": [
    "# Total DataFrame\n",
    "print(total_sales.to_string())"
   ]
  },
  {
   "cell_type": "code",
   "execution_count": 35,
   "id": "095e2eca",
   "metadata": {
    "scrolled": true
   },
   "outputs": [],
   "source": [
    "total_sales.to_csv('total_sales.csv')\n",
    "\n",
    "# I exported total sales data file as csv file. \n",
    "# Ready to send the report to sales manager via email."
   ]
  },
  {
   "cell_type": "markdown",
   "id": "b78b53a6",
   "metadata": {},
   "source": [
    "## 3. Analyse sales data\n",
    "\n",
    "By using package called plotly, we can generate sales data charts as below. \n",
    "\n",
    "With these charts, I will make a sales report which should be sent to manager via email. "
   ]
  },
  {
   "cell_type": "code",
   "execution_count": 36,
   "id": "399f0254",
   "metadata": {},
   "outputs": [
    {
     "data": {
      "text/html": [
       "        <script type=\"text/javascript\">\n",
       "        window.PlotlyConfig = {MathJaxConfig: 'local'};\n",
       "        if (window.MathJax && window.MathJax.Hub && window.MathJax.Hub.Config) {window.MathJax.Hub.Config({SVG: {font: \"STIX-Web\"}});}\n",
       "        if (typeof require !== 'undefined') {\n",
       "        require.undef(\"plotly\");\n",
       "        requirejs.config({\n",
       "            paths: {\n",
       "                'plotly': ['https://cdn.plot.ly/plotly-2.12.1.min']\n",
       "            }\n",
       "        });\n",
       "        require(['plotly'], function(Plotly) {\n",
       "            window._Plotly = Plotly;\n",
       "        });\n",
       "        }\n",
       "        </script>\n",
       "        "
      ]
     },
     "metadata": {},
     "output_type": "display_data"
    },
    {
     "data": {
      "text/html": [
       "<div>                            <div id=\"91b1ae6f-2e91-40ee-8121-b0bba3baa948\" class=\"plotly-graph-div\" style=\"height:525px; width:100%;\"></div>            <script type=\"text/javascript\">                require([\"plotly\"], function(Plotly) {                    window.PLOTLYENV=window.PLOTLYENV || {};                                    if (document.getElementById(\"91b1ae6f-2e91-40ee-8121-b0bba3baa948\")) {                    Plotly.newPlot(                        \"91b1ae6f-2e91-40ee-8121-b0bba3baa948\",                        [{\"alignmentgroup\":\"True\",\"bingroup\":\"x\",\"histfunc\":\"sum\",\"hovertemplate\":\"Date=2022-12-01<br>Products=%{x}<br>sum of Q'ty=%{y}<extra></extra>\",\"legendgroup\":\"2022-12-01\",\"marker\":{\"color\":\"#636efa\",\"pattern\":{\"shape\":\"\"}},\"name\":\"2022-12-01\",\"offsetgroup\":\"2022-12-01\",\"orientation\":\"v\",\"showlegend\":true,\"x\":[\"Steel\",\"Rod\",\"Bit\",\"Casing\",\"Shank\",\"Coupling\",\"Other products\"],\"xaxis\":\"x\",\"y\":[43,533,17,30,42,120,232],\"yaxis\":\"y\",\"type\":\"histogram\"},{\"alignmentgroup\":\"True\",\"bingroup\":\"x\",\"histfunc\":\"sum\",\"hovertemplate\":\"Date=2022-12-02<br>Products=%{x}<br>sum of Q'ty=%{y}<extra></extra>\",\"legendgroup\":\"2022-12-02\",\"marker\":{\"color\":\"#EF553B\",\"pattern\":{\"shape\":\"\"}},\"name\":\"2022-12-02\",\"offsetgroup\":\"2022-12-02\",\"orientation\":\"v\",\"showlegend\":true,\"x\":[\"Steel\",\"Rod\",\"Bit\",\"Casing\",\"Shank\",\"Coupling\",\"Other products\"],\"xaxis\":\"x\",\"y\":[45,650,20,25,35,140,295],\"yaxis\":\"y\",\"type\":\"histogram\"},{\"alignmentgroup\":\"True\",\"bingroup\":\"x\",\"histfunc\":\"sum\",\"hovertemplate\":\"Date=2022-12-03<br>Products=%{x}<br>sum of Q'ty=%{y}<extra></extra>\",\"legendgroup\":\"2022-12-03\",\"marker\":{\"color\":\"#00cc96\",\"pattern\":{\"shape\":\"\"}},\"name\":\"2022-12-03\",\"offsetgroup\":\"2022-12-03\",\"orientation\":\"v\",\"showlegend\":true,\"x\":[\"Steel\",\"Rod\",\"Bit\",\"Casing\",\"Shank\",\"Coupling\",\"Other products\"],\"xaxis\":\"x\",\"y\":[35,540,15,26,40,110,340],\"yaxis\":\"y\",\"type\":\"histogram\"},{\"alignmentgroup\":\"True\",\"bingroup\":\"x\",\"histfunc\":\"sum\",\"hovertemplate\":\"Date=2022-12-04<br>Products=%{x}<br>sum of Q'ty=%{y}<extra></extra>\",\"legendgroup\":\"2022-12-04\",\"marker\":{\"color\":\"#ab63fa\",\"pattern\":{\"shape\":\"\"}},\"name\":\"2022-12-04\",\"offsetgroup\":\"2022-12-04\",\"orientation\":\"v\",\"showlegend\":true,\"x\":[\"Steel\",\"Rod\",\"Bit\",\"Casing\",\"Shank\",\"Coupling\",\"Other products\"],\"xaxis\":\"x\",\"y\":[40,560,25,25,32,22,320],\"yaxis\":\"y\",\"type\":\"histogram\"},{\"alignmentgroup\":\"True\",\"bingroup\":\"x\",\"histfunc\":\"sum\",\"hovertemplate\":\"Date=2022-12-05<br>Products=%{x}<br>sum of Q'ty=%{y}<extra></extra>\",\"legendgroup\":\"2022-12-05\",\"marker\":{\"color\":\"#FFA15A\",\"pattern\":{\"shape\":\"\"}},\"name\":\"2022-12-05\",\"offsetgroup\":\"2022-12-05\",\"orientation\":\"v\",\"showlegend\":true,\"x\":[\"Steel\",\"Rod\",\"Bit\",\"Casing\",\"Shank\",\"Coupling\",\"Other products\"],\"xaxis\":\"x\",\"y\":[42,554,39,28,35,28,310],\"yaxis\":\"y\",\"type\":\"histogram\"}],                        {\"template\":{\"data\":{\"histogram2dcontour\":[{\"type\":\"histogram2dcontour\",\"colorbar\":{\"outlinewidth\":0,\"ticks\":\"\"},\"colorscale\":[[0.0,\"#0d0887\"],[0.1111111111111111,\"#46039f\"],[0.2222222222222222,\"#7201a8\"],[0.3333333333333333,\"#9c179e\"],[0.4444444444444444,\"#bd3786\"],[0.5555555555555556,\"#d8576b\"],[0.6666666666666666,\"#ed7953\"],[0.7777777777777778,\"#fb9f3a\"],[0.8888888888888888,\"#fdca26\"],[1.0,\"#f0f921\"]]}],\"choropleth\":[{\"type\":\"choropleth\",\"colorbar\":{\"outlinewidth\":0,\"ticks\":\"\"}}],\"histogram2d\":[{\"type\":\"histogram2d\",\"colorbar\":{\"outlinewidth\":0,\"ticks\":\"\"},\"colorscale\":[[0.0,\"#0d0887\"],[0.1111111111111111,\"#46039f\"],[0.2222222222222222,\"#7201a8\"],[0.3333333333333333,\"#9c179e\"],[0.4444444444444444,\"#bd3786\"],[0.5555555555555556,\"#d8576b\"],[0.6666666666666666,\"#ed7953\"],[0.7777777777777778,\"#fb9f3a\"],[0.8888888888888888,\"#fdca26\"],[1.0,\"#f0f921\"]]}],\"heatmap\":[{\"type\":\"heatmap\",\"colorbar\":{\"outlinewidth\":0,\"ticks\":\"\"},\"colorscale\":[[0.0,\"#0d0887\"],[0.1111111111111111,\"#46039f\"],[0.2222222222222222,\"#7201a8\"],[0.3333333333333333,\"#9c179e\"],[0.4444444444444444,\"#bd3786\"],[0.5555555555555556,\"#d8576b\"],[0.6666666666666666,\"#ed7953\"],[0.7777777777777778,\"#fb9f3a\"],[0.8888888888888888,\"#fdca26\"],[1.0,\"#f0f921\"]]}],\"heatmapgl\":[{\"type\":\"heatmapgl\",\"colorbar\":{\"outlinewidth\":0,\"ticks\":\"\"},\"colorscale\":[[0.0,\"#0d0887\"],[0.1111111111111111,\"#46039f\"],[0.2222222222222222,\"#7201a8\"],[0.3333333333333333,\"#9c179e\"],[0.4444444444444444,\"#bd3786\"],[0.5555555555555556,\"#d8576b\"],[0.6666666666666666,\"#ed7953\"],[0.7777777777777778,\"#fb9f3a\"],[0.8888888888888888,\"#fdca26\"],[1.0,\"#f0f921\"]]}],\"contourcarpet\":[{\"type\":\"contourcarpet\",\"colorbar\":{\"outlinewidth\":0,\"ticks\":\"\"}}],\"contour\":[{\"type\":\"contour\",\"colorbar\":{\"outlinewidth\":0,\"ticks\":\"\"},\"colorscale\":[[0.0,\"#0d0887\"],[0.1111111111111111,\"#46039f\"],[0.2222222222222222,\"#7201a8\"],[0.3333333333333333,\"#9c179e\"],[0.4444444444444444,\"#bd3786\"],[0.5555555555555556,\"#d8576b\"],[0.6666666666666666,\"#ed7953\"],[0.7777777777777778,\"#fb9f3a\"],[0.8888888888888888,\"#fdca26\"],[1.0,\"#f0f921\"]]}],\"surface\":[{\"type\":\"surface\",\"colorbar\":{\"outlinewidth\":0,\"ticks\":\"\"},\"colorscale\":[[0.0,\"#0d0887\"],[0.1111111111111111,\"#46039f\"],[0.2222222222222222,\"#7201a8\"],[0.3333333333333333,\"#9c179e\"],[0.4444444444444444,\"#bd3786\"],[0.5555555555555556,\"#d8576b\"],[0.6666666666666666,\"#ed7953\"],[0.7777777777777778,\"#fb9f3a\"],[0.8888888888888888,\"#fdca26\"],[1.0,\"#f0f921\"]]}],\"mesh3d\":[{\"type\":\"mesh3d\",\"colorbar\":{\"outlinewidth\":0,\"ticks\":\"\"}}],\"scatter\":[{\"fillpattern\":{\"fillmode\":\"overlay\",\"size\":10,\"solidity\":0.2},\"type\":\"scatter\"}],\"parcoords\":[{\"type\":\"parcoords\",\"line\":{\"colorbar\":{\"outlinewidth\":0,\"ticks\":\"\"}}}],\"scatterpolargl\":[{\"type\":\"scatterpolargl\",\"marker\":{\"colorbar\":{\"outlinewidth\":0,\"ticks\":\"\"}}}],\"bar\":[{\"error_x\":{\"color\":\"#2a3f5f\"},\"error_y\":{\"color\":\"#2a3f5f\"},\"marker\":{\"line\":{\"color\":\"#E5ECF6\",\"width\":0.5},\"pattern\":{\"fillmode\":\"overlay\",\"size\":10,\"solidity\":0.2}},\"type\":\"bar\"}],\"scattergeo\":[{\"type\":\"scattergeo\",\"marker\":{\"colorbar\":{\"outlinewidth\":0,\"ticks\":\"\"}}}],\"scatterpolar\":[{\"type\":\"scatterpolar\",\"marker\":{\"colorbar\":{\"outlinewidth\":0,\"ticks\":\"\"}}}],\"histogram\":[{\"marker\":{\"pattern\":{\"fillmode\":\"overlay\",\"size\":10,\"solidity\":0.2}},\"type\":\"histogram\"}],\"scattergl\":[{\"type\":\"scattergl\",\"marker\":{\"colorbar\":{\"outlinewidth\":0,\"ticks\":\"\"}}}],\"scatter3d\":[{\"type\":\"scatter3d\",\"line\":{\"colorbar\":{\"outlinewidth\":0,\"ticks\":\"\"}},\"marker\":{\"colorbar\":{\"outlinewidth\":0,\"ticks\":\"\"}}}],\"scattermapbox\":[{\"type\":\"scattermapbox\",\"marker\":{\"colorbar\":{\"outlinewidth\":0,\"ticks\":\"\"}}}],\"scatterternary\":[{\"type\":\"scatterternary\",\"marker\":{\"colorbar\":{\"outlinewidth\":0,\"ticks\":\"\"}}}],\"scattercarpet\":[{\"type\":\"scattercarpet\",\"marker\":{\"colorbar\":{\"outlinewidth\":0,\"ticks\":\"\"}}}],\"carpet\":[{\"aaxis\":{\"endlinecolor\":\"#2a3f5f\",\"gridcolor\":\"white\",\"linecolor\":\"white\",\"minorgridcolor\":\"white\",\"startlinecolor\":\"#2a3f5f\"},\"baxis\":{\"endlinecolor\":\"#2a3f5f\",\"gridcolor\":\"white\",\"linecolor\":\"white\",\"minorgridcolor\":\"white\",\"startlinecolor\":\"#2a3f5f\"},\"type\":\"carpet\"}],\"table\":[{\"cells\":{\"fill\":{\"color\":\"#EBF0F8\"},\"line\":{\"color\":\"white\"}},\"header\":{\"fill\":{\"color\":\"#C8D4E3\"},\"line\":{\"color\":\"white\"}},\"type\":\"table\"}],\"barpolar\":[{\"marker\":{\"line\":{\"color\":\"#E5ECF6\",\"width\":0.5},\"pattern\":{\"fillmode\":\"overlay\",\"size\":10,\"solidity\":0.2}},\"type\":\"barpolar\"}],\"pie\":[{\"automargin\":true,\"type\":\"pie\"}]},\"layout\":{\"autotypenumbers\":\"strict\",\"colorway\":[\"#636efa\",\"#EF553B\",\"#00cc96\",\"#ab63fa\",\"#FFA15A\",\"#19d3f3\",\"#FF6692\",\"#B6E880\",\"#FF97FF\",\"#FECB52\"],\"font\":{\"color\":\"#2a3f5f\"},\"hovermode\":\"closest\",\"hoverlabel\":{\"align\":\"left\"},\"paper_bgcolor\":\"white\",\"plot_bgcolor\":\"#E5ECF6\",\"polar\":{\"bgcolor\":\"#E5ECF6\",\"angularaxis\":{\"gridcolor\":\"white\",\"linecolor\":\"white\",\"ticks\":\"\"},\"radialaxis\":{\"gridcolor\":\"white\",\"linecolor\":\"white\",\"ticks\":\"\"}},\"ternary\":{\"bgcolor\":\"#E5ECF6\",\"aaxis\":{\"gridcolor\":\"white\",\"linecolor\":\"white\",\"ticks\":\"\"},\"baxis\":{\"gridcolor\":\"white\",\"linecolor\":\"white\",\"ticks\":\"\"},\"caxis\":{\"gridcolor\":\"white\",\"linecolor\":\"white\",\"ticks\":\"\"}},\"coloraxis\":{\"colorbar\":{\"outlinewidth\":0,\"ticks\":\"\"}},\"colorscale\":{\"sequential\":[[0.0,\"#0d0887\"],[0.1111111111111111,\"#46039f\"],[0.2222222222222222,\"#7201a8\"],[0.3333333333333333,\"#9c179e\"],[0.4444444444444444,\"#bd3786\"],[0.5555555555555556,\"#d8576b\"],[0.6666666666666666,\"#ed7953\"],[0.7777777777777778,\"#fb9f3a\"],[0.8888888888888888,\"#fdca26\"],[1.0,\"#f0f921\"]],\"sequentialminus\":[[0.0,\"#0d0887\"],[0.1111111111111111,\"#46039f\"],[0.2222222222222222,\"#7201a8\"],[0.3333333333333333,\"#9c179e\"],[0.4444444444444444,\"#bd3786\"],[0.5555555555555556,\"#d8576b\"],[0.6666666666666666,\"#ed7953\"],[0.7777777777777778,\"#fb9f3a\"],[0.8888888888888888,\"#fdca26\"],[1.0,\"#f0f921\"]],\"diverging\":[[0,\"#8e0152\"],[0.1,\"#c51b7d\"],[0.2,\"#de77ae\"],[0.3,\"#f1b6da\"],[0.4,\"#fde0ef\"],[0.5,\"#f7f7f7\"],[0.6,\"#e6f5d0\"],[0.7,\"#b8e186\"],[0.8,\"#7fbc41\"],[0.9,\"#4d9221\"],[1,\"#276419\"]]},\"xaxis\":{\"gridcolor\":\"white\",\"linecolor\":\"white\",\"ticks\":\"\",\"title\":{\"standoff\":15},\"zerolinecolor\":\"white\",\"automargin\":true,\"zerolinewidth\":2},\"yaxis\":{\"gridcolor\":\"white\",\"linecolor\":\"white\",\"ticks\":\"\",\"title\":{\"standoff\":15},\"zerolinecolor\":\"white\",\"automargin\":true,\"zerolinewidth\":2},\"scene\":{\"xaxis\":{\"backgroundcolor\":\"#E5ECF6\",\"gridcolor\":\"white\",\"linecolor\":\"white\",\"showbackground\":true,\"ticks\":\"\",\"zerolinecolor\":\"white\",\"gridwidth\":2},\"yaxis\":{\"backgroundcolor\":\"#E5ECF6\",\"gridcolor\":\"white\",\"linecolor\":\"white\",\"showbackground\":true,\"ticks\":\"\",\"zerolinecolor\":\"white\",\"gridwidth\":2},\"zaxis\":{\"backgroundcolor\":\"#E5ECF6\",\"gridcolor\":\"white\",\"linecolor\":\"white\",\"showbackground\":true,\"ticks\":\"\",\"zerolinecolor\":\"white\",\"gridwidth\":2}},\"shapedefaults\":{\"line\":{\"color\":\"#2a3f5f\"}},\"annotationdefaults\":{\"arrowcolor\":\"#2a3f5f\",\"arrowhead\":0,\"arrowwidth\":1},\"geo\":{\"bgcolor\":\"white\",\"landcolor\":\"#E5ECF6\",\"subunitcolor\":\"white\",\"showland\":true,\"showlakes\":true,\"lakecolor\":\"white\"},\"title\":{\"x\":0.05},\"mapbox\":{\"style\":\"light\"}}},\"xaxis\":{\"anchor\":\"y\",\"domain\":[0.0,1.0],\"title\":{\"text\":\"Products\"}},\"yaxis\":{\"anchor\":\"x\",\"domain\":[0.0,1.0],\"title\":{\"text\":\"sum of Q'ty\"}},\"legend\":{\"title\":{\"text\":\"Date\"},\"tracegroupgap\":0},\"title\":{\"text\":\"London Total Sales\"},\"barmode\":\"relative\"},                        {\"responsive\": true}                    ).then(function(){\n",
       "                            \n",
       "var gd = document.getElementById('91b1ae6f-2e91-40ee-8121-b0bba3baa948');\n",
       "var x = new MutationObserver(function (mutations, observer) {{\n",
       "        var display = window.getComputedStyle(gd).display;\n",
       "        if (!display || display === 'none') {{\n",
       "            console.log([gd, 'removed!']);\n",
       "            Plotly.purge(gd);\n",
       "            observer.disconnect();\n",
       "        }}\n",
       "}});\n",
       "\n",
       "// Listen for the removal of the full notebook cells\n",
       "var notebookContainer = gd.closest('#notebook-container');\n",
       "if (notebookContainer) {{\n",
       "    x.observe(notebookContainer, {childList: true});\n",
       "}}\n",
       "\n",
       "// Listen for the clearing of the current output cell\n",
       "var outputEl = gd.closest('.output');\n",
       "if (outputEl) {{\n",
       "    x.observe(outputEl, {childList: true});\n",
       "}}\n",
       "\n",
       "                        })                };                });            </script>        </div>"
      ]
     },
     "metadata": {},
     "output_type": "display_data"
    }
   ],
   "source": [
    "# reading the database\n",
    "London = total_sales[total_sales[\"Location\"] == \"London\"]\n",
    " \n",
    "# plotting the histogram chart\n",
    "fig = px.histogram(London, x='Products', y='''Q'ty''', color=London.index, title=\"London Total Sales\")\n",
    " \n",
    "# showing the plot\n",
    "fig.show('notebook_connected')"
   ]
  },
  {
   "cell_type": "code",
   "execution_count": 37,
   "id": "738c0892",
   "metadata": {},
   "outputs": [
    {
     "data": {
      "text/html": [
       "        <script type=\"text/javascript\">\n",
       "        window.PlotlyConfig = {MathJaxConfig: 'local'};\n",
       "        if (window.MathJax && window.MathJax.Hub && window.MathJax.Hub.Config) {window.MathJax.Hub.Config({SVG: {font: \"STIX-Web\"}});}\n",
       "        if (typeof require !== 'undefined') {\n",
       "        require.undef(\"plotly\");\n",
       "        requirejs.config({\n",
       "            paths: {\n",
       "                'plotly': ['https://cdn.plot.ly/plotly-2.12.1.min']\n",
       "            }\n",
       "        });\n",
       "        require(['plotly'], function(Plotly) {\n",
       "            window._Plotly = Plotly;\n",
       "        });\n",
       "        }\n",
       "        </script>\n",
       "        "
      ]
     },
     "metadata": {},
     "output_type": "display_data"
    },
    {
     "data": {
      "text/html": [
       "<div>                            <div id=\"e4e4a15f-ac6a-4b5f-9f22-53e4a1ef5e48\" class=\"plotly-graph-div\" style=\"height:525px; width:100%;\"></div>            <script type=\"text/javascript\">                require([\"plotly\"], function(Plotly) {                    window.PLOTLYENV=window.PLOTLYENV || {};                                    if (document.getElementById(\"e4e4a15f-ac6a-4b5f-9f22-53e4a1ef5e48\")) {                    Plotly.newPlot(                        \"e4e4a15f-ac6a-4b5f-9f22-53e4a1ef5e48\",                        [{\"alignmentgroup\":\"True\",\"bingroup\":\"x\",\"histfunc\":\"sum\",\"hovertemplate\":\"Date=2022-12-01<br>Products=%{x}<br>sum of Q'ty=%{y}<extra></extra>\",\"legendgroup\":\"2022-12-01\",\"marker\":{\"color\":\"#636efa\",\"pattern\":{\"shape\":\"\"}},\"name\":\"2022-12-01\",\"offsetgroup\":\"2022-12-01\",\"orientation\":\"v\",\"showlegend\":true,\"x\":[\"Steel\",\"Rod\",\"Bit\",\"Casing\",\"Shank\",\"Coupling\",\"Other products\"],\"xaxis\":\"x\",\"y\":[25,350,10,40,210,20,219],\"yaxis\":\"y\",\"type\":\"histogram\"},{\"alignmentgroup\":\"True\",\"bingroup\":\"x\",\"histfunc\":\"sum\",\"hovertemplate\":\"Date=2022-12-02<br>Products=%{x}<br>sum of Q'ty=%{y}<extra></extra>\",\"legendgroup\":\"2022-12-02\",\"marker\":{\"color\":\"#EF553B\",\"pattern\":{\"shape\":\"\"}},\"name\":\"2022-12-02\",\"offsetgroup\":\"2022-12-02\",\"orientation\":\"v\",\"showlegend\":true,\"x\":[\"Steel\",\"Rod\",\"Bit\",\"Casing\",\"Shank\",\"Coupling\",\"Other products\"],\"xaxis\":\"x\",\"y\":[36,330,20,50,45,10,213],\"yaxis\":\"y\",\"type\":\"histogram\"},{\"alignmentgroup\":\"True\",\"bingroup\":\"x\",\"histfunc\":\"sum\",\"hovertemplate\":\"Date=2022-12-03<br>Products=%{x}<br>sum of Q'ty=%{y}<extra></extra>\",\"legendgroup\":\"2022-12-03\",\"marker\":{\"color\":\"#00cc96\",\"pattern\":{\"shape\":\"\"}},\"name\":\"2022-12-03\",\"offsetgroup\":\"2022-12-03\",\"orientation\":\"v\",\"showlegend\":true,\"x\":[\"Steel\",\"Rod\",\"Bit\",\"Casing\",\"Shank\",\"Coupling\",\"Other products\"],\"xaxis\":\"x\",\"y\":[36,62,63,58,133,8,12],\"yaxis\":\"y\",\"type\":\"histogram\"},{\"alignmentgroup\":\"True\",\"bingroup\":\"x\",\"histfunc\":\"sum\",\"hovertemplate\":\"Date=2022-12-04<br>Products=%{x}<br>sum of Q'ty=%{y}<extra></extra>\",\"legendgroup\":\"2022-12-04\",\"marker\":{\"color\":\"#ab63fa\",\"pattern\":{\"shape\":\"\"}},\"name\":\"2022-12-04\",\"offsetgroup\":\"2022-12-04\",\"orientation\":\"v\",\"showlegend\":true,\"x\":[\"Steel\",\"Rod\",\"Bit\",\"Casing\",\"Shank\",\"Coupling\",\"Other products\"],\"xaxis\":\"x\",\"y\":[63,244,52,63,147,56,140],\"yaxis\":\"y\",\"type\":\"histogram\"},{\"alignmentgroup\":\"True\",\"bingroup\":\"x\",\"histfunc\":\"sum\",\"hovertemplate\":\"Date=2022-12-05<br>Products=%{x}<br>sum of Q'ty=%{y}<extra></extra>\",\"legendgroup\":\"2022-12-05\",\"marker\":{\"color\":\"#FFA15A\",\"pattern\":{\"shape\":\"\"}},\"name\":\"2022-12-05\",\"offsetgroup\":\"2022-12-05\",\"orientation\":\"v\",\"showlegend\":true,\"x\":[\"Steel\",\"Rod\",\"Bit\",\"Casing\",\"Shank\",\"Coupling\",\"Other products\"],\"xaxis\":\"x\",\"y\":[25,366,24,45,136,45,145],\"yaxis\":\"y\",\"type\":\"histogram\"}],                        {\"template\":{\"data\":{\"histogram2dcontour\":[{\"type\":\"histogram2dcontour\",\"colorbar\":{\"outlinewidth\":0,\"ticks\":\"\"},\"colorscale\":[[0.0,\"#0d0887\"],[0.1111111111111111,\"#46039f\"],[0.2222222222222222,\"#7201a8\"],[0.3333333333333333,\"#9c179e\"],[0.4444444444444444,\"#bd3786\"],[0.5555555555555556,\"#d8576b\"],[0.6666666666666666,\"#ed7953\"],[0.7777777777777778,\"#fb9f3a\"],[0.8888888888888888,\"#fdca26\"],[1.0,\"#f0f921\"]]}],\"choropleth\":[{\"type\":\"choropleth\",\"colorbar\":{\"outlinewidth\":0,\"ticks\":\"\"}}],\"histogram2d\":[{\"type\":\"histogram2d\",\"colorbar\":{\"outlinewidth\":0,\"ticks\":\"\"},\"colorscale\":[[0.0,\"#0d0887\"],[0.1111111111111111,\"#46039f\"],[0.2222222222222222,\"#7201a8\"],[0.3333333333333333,\"#9c179e\"],[0.4444444444444444,\"#bd3786\"],[0.5555555555555556,\"#d8576b\"],[0.6666666666666666,\"#ed7953\"],[0.7777777777777778,\"#fb9f3a\"],[0.8888888888888888,\"#fdca26\"],[1.0,\"#f0f921\"]]}],\"heatmap\":[{\"type\":\"heatmap\",\"colorbar\":{\"outlinewidth\":0,\"ticks\":\"\"},\"colorscale\":[[0.0,\"#0d0887\"],[0.1111111111111111,\"#46039f\"],[0.2222222222222222,\"#7201a8\"],[0.3333333333333333,\"#9c179e\"],[0.4444444444444444,\"#bd3786\"],[0.5555555555555556,\"#d8576b\"],[0.6666666666666666,\"#ed7953\"],[0.7777777777777778,\"#fb9f3a\"],[0.8888888888888888,\"#fdca26\"],[1.0,\"#f0f921\"]]}],\"heatmapgl\":[{\"type\":\"heatmapgl\",\"colorbar\":{\"outlinewidth\":0,\"ticks\":\"\"},\"colorscale\":[[0.0,\"#0d0887\"],[0.1111111111111111,\"#46039f\"],[0.2222222222222222,\"#7201a8\"],[0.3333333333333333,\"#9c179e\"],[0.4444444444444444,\"#bd3786\"],[0.5555555555555556,\"#d8576b\"],[0.6666666666666666,\"#ed7953\"],[0.7777777777777778,\"#fb9f3a\"],[0.8888888888888888,\"#fdca26\"],[1.0,\"#f0f921\"]]}],\"contourcarpet\":[{\"type\":\"contourcarpet\",\"colorbar\":{\"outlinewidth\":0,\"ticks\":\"\"}}],\"contour\":[{\"type\":\"contour\",\"colorbar\":{\"outlinewidth\":0,\"ticks\":\"\"},\"colorscale\":[[0.0,\"#0d0887\"],[0.1111111111111111,\"#46039f\"],[0.2222222222222222,\"#7201a8\"],[0.3333333333333333,\"#9c179e\"],[0.4444444444444444,\"#bd3786\"],[0.5555555555555556,\"#d8576b\"],[0.6666666666666666,\"#ed7953\"],[0.7777777777777778,\"#fb9f3a\"],[0.8888888888888888,\"#fdca26\"],[1.0,\"#f0f921\"]]}],\"surface\":[{\"type\":\"surface\",\"colorbar\":{\"outlinewidth\":0,\"ticks\":\"\"},\"colorscale\":[[0.0,\"#0d0887\"],[0.1111111111111111,\"#46039f\"],[0.2222222222222222,\"#7201a8\"],[0.3333333333333333,\"#9c179e\"],[0.4444444444444444,\"#bd3786\"],[0.5555555555555556,\"#d8576b\"],[0.6666666666666666,\"#ed7953\"],[0.7777777777777778,\"#fb9f3a\"],[0.8888888888888888,\"#fdca26\"],[1.0,\"#f0f921\"]]}],\"mesh3d\":[{\"type\":\"mesh3d\",\"colorbar\":{\"outlinewidth\":0,\"ticks\":\"\"}}],\"scatter\":[{\"fillpattern\":{\"fillmode\":\"overlay\",\"size\":10,\"solidity\":0.2},\"type\":\"scatter\"}],\"parcoords\":[{\"type\":\"parcoords\",\"line\":{\"colorbar\":{\"outlinewidth\":0,\"ticks\":\"\"}}}],\"scatterpolargl\":[{\"type\":\"scatterpolargl\",\"marker\":{\"colorbar\":{\"outlinewidth\":0,\"ticks\":\"\"}}}],\"bar\":[{\"error_x\":{\"color\":\"#2a3f5f\"},\"error_y\":{\"color\":\"#2a3f5f\"},\"marker\":{\"line\":{\"color\":\"#E5ECF6\",\"width\":0.5},\"pattern\":{\"fillmode\":\"overlay\",\"size\":10,\"solidity\":0.2}},\"type\":\"bar\"}],\"scattergeo\":[{\"type\":\"scattergeo\",\"marker\":{\"colorbar\":{\"outlinewidth\":0,\"ticks\":\"\"}}}],\"scatterpolar\":[{\"type\":\"scatterpolar\",\"marker\":{\"colorbar\":{\"outlinewidth\":0,\"ticks\":\"\"}}}],\"histogram\":[{\"marker\":{\"pattern\":{\"fillmode\":\"overlay\",\"size\":10,\"solidity\":0.2}},\"type\":\"histogram\"}],\"scattergl\":[{\"type\":\"scattergl\",\"marker\":{\"colorbar\":{\"outlinewidth\":0,\"ticks\":\"\"}}}],\"scatter3d\":[{\"type\":\"scatter3d\",\"line\":{\"colorbar\":{\"outlinewidth\":0,\"ticks\":\"\"}},\"marker\":{\"colorbar\":{\"outlinewidth\":0,\"ticks\":\"\"}}}],\"scattermapbox\":[{\"type\":\"scattermapbox\",\"marker\":{\"colorbar\":{\"outlinewidth\":0,\"ticks\":\"\"}}}],\"scatterternary\":[{\"type\":\"scatterternary\",\"marker\":{\"colorbar\":{\"outlinewidth\":0,\"ticks\":\"\"}}}],\"scattercarpet\":[{\"type\":\"scattercarpet\",\"marker\":{\"colorbar\":{\"outlinewidth\":0,\"ticks\":\"\"}}}],\"carpet\":[{\"aaxis\":{\"endlinecolor\":\"#2a3f5f\",\"gridcolor\":\"white\",\"linecolor\":\"white\",\"minorgridcolor\":\"white\",\"startlinecolor\":\"#2a3f5f\"},\"baxis\":{\"endlinecolor\":\"#2a3f5f\",\"gridcolor\":\"white\",\"linecolor\":\"white\",\"minorgridcolor\":\"white\",\"startlinecolor\":\"#2a3f5f\"},\"type\":\"carpet\"}],\"table\":[{\"cells\":{\"fill\":{\"color\":\"#EBF0F8\"},\"line\":{\"color\":\"white\"}},\"header\":{\"fill\":{\"color\":\"#C8D4E3\"},\"line\":{\"color\":\"white\"}},\"type\":\"table\"}],\"barpolar\":[{\"marker\":{\"line\":{\"color\":\"#E5ECF6\",\"width\":0.5},\"pattern\":{\"fillmode\":\"overlay\",\"size\":10,\"solidity\":0.2}},\"type\":\"barpolar\"}],\"pie\":[{\"automargin\":true,\"type\":\"pie\"}]},\"layout\":{\"autotypenumbers\":\"strict\",\"colorway\":[\"#636efa\",\"#EF553B\",\"#00cc96\",\"#ab63fa\",\"#FFA15A\",\"#19d3f3\",\"#FF6692\",\"#B6E880\",\"#FF97FF\",\"#FECB52\"],\"font\":{\"color\":\"#2a3f5f\"},\"hovermode\":\"closest\",\"hoverlabel\":{\"align\":\"left\"},\"paper_bgcolor\":\"white\",\"plot_bgcolor\":\"#E5ECF6\",\"polar\":{\"bgcolor\":\"#E5ECF6\",\"angularaxis\":{\"gridcolor\":\"white\",\"linecolor\":\"white\",\"ticks\":\"\"},\"radialaxis\":{\"gridcolor\":\"white\",\"linecolor\":\"white\",\"ticks\":\"\"}},\"ternary\":{\"bgcolor\":\"#E5ECF6\",\"aaxis\":{\"gridcolor\":\"white\",\"linecolor\":\"white\",\"ticks\":\"\"},\"baxis\":{\"gridcolor\":\"white\",\"linecolor\":\"white\",\"ticks\":\"\"},\"caxis\":{\"gridcolor\":\"white\",\"linecolor\":\"white\",\"ticks\":\"\"}},\"coloraxis\":{\"colorbar\":{\"outlinewidth\":0,\"ticks\":\"\"}},\"colorscale\":{\"sequential\":[[0.0,\"#0d0887\"],[0.1111111111111111,\"#46039f\"],[0.2222222222222222,\"#7201a8\"],[0.3333333333333333,\"#9c179e\"],[0.4444444444444444,\"#bd3786\"],[0.5555555555555556,\"#d8576b\"],[0.6666666666666666,\"#ed7953\"],[0.7777777777777778,\"#fb9f3a\"],[0.8888888888888888,\"#fdca26\"],[1.0,\"#f0f921\"]],\"sequentialminus\":[[0.0,\"#0d0887\"],[0.1111111111111111,\"#46039f\"],[0.2222222222222222,\"#7201a8\"],[0.3333333333333333,\"#9c179e\"],[0.4444444444444444,\"#bd3786\"],[0.5555555555555556,\"#d8576b\"],[0.6666666666666666,\"#ed7953\"],[0.7777777777777778,\"#fb9f3a\"],[0.8888888888888888,\"#fdca26\"],[1.0,\"#f0f921\"]],\"diverging\":[[0,\"#8e0152\"],[0.1,\"#c51b7d\"],[0.2,\"#de77ae\"],[0.3,\"#f1b6da\"],[0.4,\"#fde0ef\"],[0.5,\"#f7f7f7\"],[0.6,\"#e6f5d0\"],[0.7,\"#b8e186\"],[0.8,\"#7fbc41\"],[0.9,\"#4d9221\"],[1,\"#276419\"]]},\"xaxis\":{\"gridcolor\":\"white\",\"linecolor\":\"white\",\"ticks\":\"\",\"title\":{\"standoff\":15},\"zerolinecolor\":\"white\",\"automargin\":true,\"zerolinewidth\":2},\"yaxis\":{\"gridcolor\":\"white\",\"linecolor\":\"white\",\"ticks\":\"\",\"title\":{\"standoff\":15},\"zerolinecolor\":\"white\",\"automargin\":true,\"zerolinewidth\":2},\"scene\":{\"xaxis\":{\"backgroundcolor\":\"#E5ECF6\",\"gridcolor\":\"white\",\"linecolor\":\"white\",\"showbackground\":true,\"ticks\":\"\",\"zerolinecolor\":\"white\",\"gridwidth\":2},\"yaxis\":{\"backgroundcolor\":\"#E5ECF6\",\"gridcolor\":\"white\",\"linecolor\":\"white\",\"showbackground\":true,\"ticks\":\"\",\"zerolinecolor\":\"white\",\"gridwidth\":2},\"zaxis\":{\"backgroundcolor\":\"#E5ECF6\",\"gridcolor\":\"white\",\"linecolor\":\"white\",\"showbackground\":true,\"ticks\":\"\",\"zerolinecolor\":\"white\",\"gridwidth\":2}},\"shapedefaults\":{\"line\":{\"color\":\"#2a3f5f\"}},\"annotationdefaults\":{\"arrowcolor\":\"#2a3f5f\",\"arrowhead\":0,\"arrowwidth\":1},\"geo\":{\"bgcolor\":\"white\",\"landcolor\":\"#E5ECF6\",\"subunitcolor\":\"white\",\"showland\":true,\"showlakes\":true,\"lakecolor\":\"white\"},\"title\":{\"x\":0.05},\"mapbox\":{\"style\":\"light\"}}},\"xaxis\":{\"anchor\":\"y\",\"domain\":[0.0,1.0],\"title\":{\"text\":\"Products\"}},\"yaxis\":{\"anchor\":\"x\",\"domain\":[0.0,1.0],\"title\":{\"text\":\"sum of Q'ty\"}},\"legend\":{\"title\":{\"text\":\"Date\"},\"tracegroupgap\":0},\"title\":{\"text\":\"West Midlands Total Sales\"},\"barmode\":\"relative\"},                        {\"responsive\": true}                    ).then(function(){\n",
       "                            \n",
       "var gd = document.getElementById('e4e4a15f-ac6a-4b5f-9f22-53e4a1ef5e48');\n",
       "var x = new MutationObserver(function (mutations, observer) {{\n",
       "        var display = window.getComputedStyle(gd).display;\n",
       "        if (!display || display === 'none') {{\n",
       "            console.log([gd, 'removed!']);\n",
       "            Plotly.purge(gd);\n",
       "            observer.disconnect();\n",
       "        }}\n",
       "}});\n",
       "\n",
       "// Listen for the removal of the full notebook cells\n",
       "var notebookContainer = gd.closest('#notebook-container');\n",
       "if (notebookContainer) {{\n",
       "    x.observe(notebookContainer, {childList: true});\n",
       "}}\n",
       "\n",
       "// Listen for the clearing of the current output cell\n",
       "var outputEl = gd.closest('.output');\n",
       "if (outputEl) {{\n",
       "    x.observe(outputEl, {childList: true});\n",
       "}}\n",
       "\n",
       "                        })                };                });            </script>        </div>"
      ]
     },
     "metadata": {},
     "output_type": "display_data"
    }
   ],
   "source": [
    "WM = total_sales[total_sales[\"Location\"] == \"West Midlands\"]\n",
    " \n",
    "fig = px.histogram(WM, x='Products', y='''Q'ty''', color=WM.index, title=\"West Midlands Total Sales\")\n",
    " \n",
    "fig.show('notebook_connected')"
   ]
  },
  {
   "cell_type": "code",
   "execution_count": 38,
   "id": "1a24e847",
   "metadata": {
    "scrolled": false
   },
   "outputs": [
    {
     "data": {
      "text/html": [
       "        <script type=\"text/javascript\">\n",
       "        window.PlotlyConfig = {MathJaxConfig: 'local'};\n",
       "        if (window.MathJax && window.MathJax.Hub && window.MathJax.Hub.Config) {window.MathJax.Hub.Config({SVG: {font: \"STIX-Web\"}});}\n",
       "        if (typeof require !== 'undefined') {\n",
       "        require.undef(\"plotly\");\n",
       "        requirejs.config({\n",
       "            paths: {\n",
       "                'plotly': ['https://cdn.plot.ly/plotly-2.12.1.min']\n",
       "            }\n",
       "        });\n",
       "        require(['plotly'], function(Plotly) {\n",
       "            window._Plotly = Plotly;\n",
       "        });\n",
       "        }\n",
       "        </script>\n",
       "        "
      ]
     },
     "metadata": {},
     "output_type": "display_data"
    },
    {
     "data": {
      "text/html": [
       "<div>                            <div id=\"6a846d57-6caf-41b8-be8a-cca212f59ef7\" class=\"plotly-graph-div\" style=\"height:525px; width:100%;\"></div>            <script type=\"text/javascript\">                require([\"plotly\"], function(Plotly) {                    window.PLOTLYENV=window.PLOTLYENV || {};                                    if (document.getElementById(\"6a846d57-6caf-41b8-be8a-cca212f59ef7\")) {                    Plotly.newPlot(                        \"6a846d57-6caf-41b8-be8a-cca212f59ef7\",                        [{\"alignmentgroup\":\"True\",\"bingroup\":\"x\",\"histfunc\":\"sum\",\"hovertemplate\":\"Date=2022-12-01<br>Location=%{x}<br>sum of Total sales amount=%{y}<extra></extra>\",\"legendgroup\":\"2022-12-01\",\"marker\":{\"color\":\"#636efa\",\"pattern\":{\"shape\":\"\"}},\"name\":\"2022-12-01\",\"offsetgroup\":\"2022-12-01\",\"orientation\":\"v\",\"showlegend\":true,\"texttemplate\":\"%{value:.2s}\",\"x\":[\"London\",\"London\",\"London\",\"London\",\"London\",\"London\",\"London\",\"South East\",\"South East\",\"South East\",\"South East\",\"South East\",\"South East\",\"South East\",\"North West\",\"North West\",\"North West\",\"North West\",\"North West\",\"North West\",\"North West\",\"West Midlands\",\"West Midlands\",\"West Midlands\",\"West Midlands\",\"West Midlands\",\"West Midlands\",\"West Midlands\"],\"xaxis\":\"x\",\"y\":[4300,159900,4250,1500,1890,2880,2320,2000,159900,4250,1500,1890,2880,2320,3500,120000,3750,2250,5850,480,2010,2500,105000,2500,2000,9450,480,2190],\"yaxis\":\"y\",\"type\":\"histogram\",\"textfont\":{\"size\":11}},{\"alignmentgroup\":\"True\",\"bingroup\":\"x\",\"histfunc\":\"sum\",\"hovertemplate\":\"Date=2022-12-02<br>Location=%{x}<br>sum of Total sales amount=%{y}<extra></extra>\",\"legendgroup\":\"2022-12-02\",\"marker\":{\"color\":\"#EF553B\",\"pattern\":{\"shape\":\"\"}},\"name\":\"2022-12-02\",\"offsetgroup\":\"2022-12-02\",\"orientation\":\"v\",\"showlegend\":true,\"texttemplate\":\"%{value:.2s}\",\"x\":[\"London\",\"London\",\"London\",\"London\",\"London\",\"London\",\"London\",\"South East\",\"South East\",\"South East\",\"South East\",\"South East\",\"South East\",\"South East\",\"North West\",\"North West\",\"North West\",\"North West\",\"North West\",\"North West\",\"North West\",\"West Midlands\",\"West Midlands\",\"West Midlands\",\"West Midlands\",\"West Midlands\",\"West Midlands\",\"West Midlands\"],\"xaxis\":\"x\",\"y\":[4500,195000,5000,1250,1575,3360,2950,3300,69000,2500,750,900,1920,2950,3600,135000,9000,2750,7200,360,1400,3600,99000,5000,2500,2025,240,2130],\"yaxis\":\"y\",\"type\":\"histogram\",\"textfont\":{\"size\":11}},{\"alignmentgroup\":\"True\",\"bingroup\":\"x\",\"histfunc\":\"sum\",\"hovertemplate\":\"Date=2022-12-03<br>Location=%{x}<br>sum of Total sales amount=%{y}<extra></extra>\",\"legendgroup\":\"2022-12-03\",\"marker\":{\"color\":\"#00cc96\",\"pattern\":{\"shape\":\"\"}},\"name\":\"2022-12-03\",\"offsetgroup\":\"2022-12-03\",\"orientation\":\"v\",\"showlegend\":true,\"texttemplate\":\"%{value:.2s}\",\"x\":[\"London\",\"London\",\"London\",\"London\",\"London\",\"London\",\"London\",\"South East\",\"South East\",\"South East\",\"South East\",\"South East\",\"South East\",\"South East\",\"North West\",\"North West\",\"North West\",\"North West\",\"North West\",\"North West\",\"North West\",\"West Midlands\",\"West Midlands\",\"West Midlands\",\"West Midlands\",\"West Midlands\",\"West Midlands\",\"West Midlands\"],\"xaxis\":\"x\",\"y\":[3500,162000,3750,1300,1800,2640,3400,2900,73500,6250,1500,1350,2880,3400,4500,168000,8500,2750,6975,240,1700,3600,18600,15750,2900,5985,192,120],\"yaxis\":\"y\",\"type\":\"histogram\",\"textfont\":{\"size\":11}},{\"alignmentgroup\":\"True\",\"bingroup\":\"x\",\"histfunc\":\"sum\",\"hovertemplate\":\"Date=2022-12-04<br>Location=%{x}<br>sum of Total sales amount=%{y}<extra></extra>\",\"legendgroup\":\"2022-12-04\",\"marker\":{\"color\":\"#ab63fa\",\"pattern\":{\"shape\":\"\"}},\"name\":\"2022-12-04\",\"offsetgroup\":\"2022-12-04\",\"orientation\":\"v\",\"showlegend\":true,\"texttemplate\":\"%{value:.2s}\",\"x\":[\"London\",\"London\",\"London\",\"London\",\"London\",\"London\",\"London\",\"South East\",\"South East\",\"South East\",\"South East\",\"South East\",\"South East\",\"South East\",\"North West\",\"North West\",\"North West\",\"North West\",\"North West\",\"North West\",\"North West\",\"West Midlands\",\"West Midlands\",\"West Midlands\",\"West Midlands\",\"West Midlands\",\"West Midlands\",\"West Midlands\"],\"xaxis\":\"x\",\"y\":[4000,168000,6250,1250,1440,528,3200,3000,136800,5750,1250,900,456,1450,3900,119400,9000,3000,7065,288,1700,6300,73200,13000,3150,6615,1344,1400],\"yaxis\":\"y\",\"type\":\"histogram\",\"textfont\":{\"size\":11}},{\"alignmentgroup\":\"True\",\"bingroup\":\"x\",\"histfunc\":\"sum\",\"hovertemplate\":\"Date=2022-12-05<br>Location=%{x}<br>sum of Total sales amount=%{y}<extra></extra>\",\"legendgroup\":\"2022-12-05\",\"marker\":{\"color\":\"#FFA15A\",\"pattern\":{\"shape\":\"\"}},\"name\":\"2022-12-05\",\"offsetgroup\":\"2022-12-05\",\"orientation\":\"v\",\"showlegend\":true,\"texttemplate\":\"%{value:.2s}\",\"x\":[\"London\",\"London\",\"London\",\"London\",\"London\",\"London\",\"London\",\"South East\",\"South East\",\"South East\",\"South East\",\"South East\",\"South East\",\"South East\",\"North West\",\"North West\",\"North West\",\"North West\",\"North West\",\"North West\",\"North West\",\"West Midlands\",\"West Midlands\",\"West Midlands\",\"West Midlands\",\"West Midlands\",\"West Midlands\",\"West Midlands\"],\"xaxis\":\"x\",\"y\":[4200,166200,9750,1400,1575,672,3100,2000,43500,2500,800,900,768,980,2700,110700,16250,2700,6525,1200,1500,2500,109800,6000,2250,6120,1080,1450],\"yaxis\":\"y\",\"type\":\"histogram\",\"textfont\":{\"size\":11}}],                        {\"template\":{\"data\":{\"histogram2dcontour\":[{\"type\":\"histogram2dcontour\",\"colorbar\":{\"outlinewidth\":0,\"ticks\":\"\"},\"colorscale\":[[0.0,\"#0d0887\"],[0.1111111111111111,\"#46039f\"],[0.2222222222222222,\"#7201a8\"],[0.3333333333333333,\"#9c179e\"],[0.4444444444444444,\"#bd3786\"],[0.5555555555555556,\"#d8576b\"],[0.6666666666666666,\"#ed7953\"],[0.7777777777777778,\"#fb9f3a\"],[0.8888888888888888,\"#fdca26\"],[1.0,\"#f0f921\"]]}],\"choropleth\":[{\"type\":\"choropleth\",\"colorbar\":{\"outlinewidth\":0,\"ticks\":\"\"}}],\"histogram2d\":[{\"type\":\"histogram2d\",\"colorbar\":{\"outlinewidth\":0,\"ticks\":\"\"},\"colorscale\":[[0.0,\"#0d0887\"],[0.1111111111111111,\"#46039f\"],[0.2222222222222222,\"#7201a8\"],[0.3333333333333333,\"#9c179e\"],[0.4444444444444444,\"#bd3786\"],[0.5555555555555556,\"#d8576b\"],[0.6666666666666666,\"#ed7953\"],[0.7777777777777778,\"#fb9f3a\"],[0.8888888888888888,\"#fdca26\"],[1.0,\"#f0f921\"]]}],\"heatmap\":[{\"type\":\"heatmap\",\"colorbar\":{\"outlinewidth\":0,\"ticks\":\"\"},\"colorscale\":[[0.0,\"#0d0887\"],[0.1111111111111111,\"#46039f\"],[0.2222222222222222,\"#7201a8\"],[0.3333333333333333,\"#9c179e\"],[0.4444444444444444,\"#bd3786\"],[0.5555555555555556,\"#d8576b\"],[0.6666666666666666,\"#ed7953\"],[0.7777777777777778,\"#fb9f3a\"],[0.8888888888888888,\"#fdca26\"],[1.0,\"#f0f921\"]]}],\"heatmapgl\":[{\"type\":\"heatmapgl\",\"colorbar\":{\"outlinewidth\":0,\"ticks\":\"\"},\"colorscale\":[[0.0,\"#0d0887\"],[0.1111111111111111,\"#46039f\"],[0.2222222222222222,\"#7201a8\"],[0.3333333333333333,\"#9c179e\"],[0.4444444444444444,\"#bd3786\"],[0.5555555555555556,\"#d8576b\"],[0.6666666666666666,\"#ed7953\"],[0.7777777777777778,\"#fb9f3a\"],[0.8888888888888888,\"#fdca26\"],[1.0,\"#f0f921\"]]}],\"contourcarpet\":[{\"type\":\"contourcarpet\",\"colorbar\":{\"outlinewidth\":0,\"ticks\":\"\"}}],\"contour\":[{\"type\":\"contour\",\"colorbar\":{\"outlinewidth\":0,\"ticks\":\"\"},\"colorscale\":[[0.0,\"#0d0887\"],[0.1111111111111111,\"#46039f\"],[0.2222222222222222,\"#7201a8\"],[0.3333333333333333,\"#9c179e\"],[0.4444444444444444,\"#bd3786\"],[0.5555555555555556,\"#d8576b\"],[0.6666666666666666,\"#ed7953\"],[0.7777777777777778,\"#fb9f3a\"],[0.8888888888888888,\"#fdca26\"],[1.0,\"#f0f921\"]]}],\"surface\":[{\"type\":\"surface\",\"colorbar\":{\"outlinewidth\":0,\"ticks\":\"\"},\"colorscale\":[[0.0,\"#0d0887\"],[0.1111111111111111,\"#46039f\"],[0.2222222222222222,\"#7201a8\"],[0.3333333333333333,\"#9c179e\"],[0.4444444444444444,\"#bd3786\"],[0.5555555555555556,\"#d8576b\"],[0.6666666666666666,\"#ed7953\"],[0.7777777777777778,\"#fb9f3a\"],[0.8888888888888888,\"#fdca26\"],[1.0,\"#f0f921\"]]}],\"mesh3d\":[{\"type\":\"mesh3d\",\"colorbar\":{\"outlinewidth\":0,\"ticks\":\"\"}}],\"scatter\":[{\"fillpattern\":{\"fillmode\":\"overlay\",\"size\":10,\"solidity\":0.2},\"type\":\"scatter\"}],\"parcoords\":[{\"type\":\"parcoords\",\"line\":{\"colorbar\":{\"outlinewidth\":0,\"ticks\":\"\"}}}],\"scatterpolargl\":[{\"type\":\"scatterpolargl\",\"marker\":{\"colorbar\":{\"outlinewidth\":0,\"ticks\":\"\"}}}],\"bar\":[{\"error_x\":{\"color\":\"#2a3f5f\"},\"error_y\":{\"color\":\"#2a3f5f\"},\"marker\":{\"line\":{\"color\":\"#E5ECF6\",\"width\":0.5},\"pattern\":{\"fillmode\":\"overlay\",\"size\":10,\"solidity\":0.2}},\"type\":\"bar\"}],\"scattergeo\":[{\"type\":\"scattergeo\",\"marker\":{\"colorbar\":{\"outlinewidth\":0,\"ticks\":\"\"}}}],\"scatterpolar\":[{\"type\":\"scatterpolar\",\"marker\":{\"colorbar\":{\"outlinewidth\":0,\"ticks\":\"\"}}}],\"histogram\":[{\"marker\":{\"pattern\":{\"fillmode\":\"overlay\",\"size\":10,\"solidity\":0.2}},\"type\":\"histogram\"}],\"scattergl\":[{\"type\":\"scattergl\",\"marker\":{\"colorbar\":{\"outlinewidth\":0,\"ticks\":\"\"}}}],\"scatter3d\":[{\"type\":\"scatter3d\",\"line\":{\"colorbar\":{\"outlinewidth\":0,\"ticks\":\"\"}},\"marker\":{\"colorbar\":{\"outlinewidth\":0,\"ticks\":\"\"}}}],\"scattermapbox\":[{\"type\":\"scattermapbox\",\"marker\":{\"colorbar\":{\"outlinewidth\":0,\"ticks\":\"\"}}}],\"scatterternary\":[{\"type\":\"scatterternary\",\"marker\":{\"colorbar\":{\"outlinewidth\":0,\"ticks\":\"\"}}}],\"scattercarpet\":[{\"type\":\"scattercarpet\",\"marker\":{\"colorbar\":{\"outlinewidth\":0,\"ticks\":\"\"}}}],\"carpet\":[{\"aaxis\":{\"endlinecolor\":\"#2a3f5f\",\"gridcolor\":\"white\",\"linecolor\":\"white\",\"minorgridcolor\":\"white\",\"startlinecolor\":\"#2a3f5f\"},\"baxis\":{\"endlinecolor\":\"#2a3f5f\",\"gridcolor\":\"white\",\"linecolor\":\"white\",\"minorgridcolor\":\"white\",\"startlinecolor\":\"#2a3f5f\"},\"type\":\"carpet\"}],\"table\":[{\"cells\":{\"fill\":{\"color\":\"#EBF0F8\"},\"line\":{\"color\":\"white\"}},\"header\":{\"fill\":{\"color\":\"#C8D4E3\"},\"line\":{\"color\":\"white\"}},\"type\":\"table\"}],\"barpolar\":[{\"marker\":{\"line\":{\"color\":\"#E5ECF6\",\"width\":0.5},\"pattern\":{\"fillmode\":\"overlay\",\"size\":10,\"solidity\":0.2}},\"type\":\"barpolar\"}],\"pie\":[{\"automargin\":true,\"type\":\"pie\"}]},\"layout\":{\"autotypenumbers\":\"strict\",\"colorway\":[\"#636efa\",\"#EF553B\",\"#00cc96\",\"#ab63fa\",\"#FFA15A\",\"#19d3f3\",\"#FF6692\",\"#B6E880\",\"#FF97FF\",\"#FECB52\"],\"font\":{\"color\":\"#2a3f5f\"},\"hovermode\":\"closest\",\"hoverlabel\":{\"align\":\"left\"},\"paper_bgcolor\":\"white\",\"plot_bgcolor\":\"#E5ECF6\",\"polar\":{\"bgcolor\":\"#E5ECF6\",\"angularaxis\":{\"gridcolor\":\"white\",\"linecolor\":\"white\",\"ticks\":\"\"},\"radialaxis\":{\"gridcolor\":\"white\",\"linecolor\":\"white\",\"ticks\":\"\"}},\"ternary\":{\"bgcolor\":\"#E5ECF6\",\"aaxis\":{\"gridcolor\":\"white\",\"linecolor\":\"white\",\"ticks\":\"\"},\"baxis\":{\"gridcolor\":\"white\",\"linecolor\":\"white\",\"ticks\":\"\"},\"caxis\":{\"gridcolor\":\"white\",\"linecolor\":\"white\",\"ticks\":\"\"}},\"coloraxis\":{\"colorbar\":{\"outlinewidth\":0,\"ticks\":\"\"}},\"colorscale\":{\"sequential\":[[0.0,\"#0d0887\"],[0.1111111111111111,\"#46039f\"],[0.2222222222222222,\"#7201a8\"],[0.3333333333333333,\"#9c179e\"],[0.4444444444444444,\"#bd3786\"],[0.5555555555555556,\"#d8576b\"],[0.6666666666666666,\"#ed7953\"],[0.7777777777777778,\"#fb9f3a\"],[0.8888888888888888,\"#fdca26\"],[1.0,\"#f0f921\"]],\"sequentialminus\":[[0.0,\"#0d0887\"],[0.1111111111111111,\"#46039f\"],[0.2222222222222222,\"#7201a8\"],[0.3333333333333333,\"#9c179e\"],[0.4444444444444444,\"#bd3786\"],[0.5555555555555556,\"#d8576b\"],[0.6666666666666666,\"#ed7953\"],[0.7777777777777778,\"#fb9f3a\"],[0.8888888888888888,\"#fdca26\"],[1.0,\"#f0f921\"]],\"diverging\":[[0,\"#8e0152\"],[0.1,\"#c51b7d\"],[0.2,\"#de77ae\"],[0.3,\"#f1b6da\"],[0.4,\"#fde0ef\"],[0.5,\"#f7f7f7\"],[0.6,\"#e6f5d0\"],[0.7,\"#b8e186\"],[0.8,\"#7fbc41\"],[0.9,\"#4d9221\"],[1,\"#276419\"]]},\"xaxis\":{\"gridcolor\":\"white\",\"linecolor\":\"white\",\"ticks\":\"\",\"title\":{\"standoff\":15},\"zerolinecolor\":\"white\",\"automargin\":true,\"zerolinewidth\":2},\"yaxis\":{\"gridcolor\":\"white\",\"linecolor\":\"white\",\"ticks\":\"\",\"title\":{\"standoff\":15},\"zerolinecolor\":\"white\",\"automargin\":true,\"zerolinewidth\":2},\"scene\":{\"xaxis\":{\"backgroundcolor\":\"#E5ECF6\",\"gridcolor\":\"white\",\"linecolor\":\"white\",\"showbackground\":true,\"ticks\":\"\",\"zerolinecolor\":\"white\",\"gridwidth\":2},\"yaxis\":{\"backgroundcolor\":\"#E5ECF6\",\"gridcolor\":\"white\",\"linecolor\":\"white\",\"showbackground\":true,\"ticks\":\"\",\"zerolinecolor\":\"white\",\"gridwidth\":2},\"zaxis\":{\"backgroundcolor\":\"#E5ECF6\",\"gridcolor\":\"white\",\"linecolor\":\"white\",\"showbackground\":true,\"ticks\":\"\",\"zerolinecolor\":\"white\",\"gridwidth\":2}},\"shapedefaults\":{\"line\":{\"color\":\"#2a3f5f\"}},\"annotationdefaults\":{\"arrowcolor\":\"#2a3f5f\",\"arrowhead\":0,\"arrowwidth\":1},\"geo\":{\"bgcolor\":\"white\",\"landcolor\":\"#E5ECF6\",\"subunitcolor\":\"white\",\"showland\":true,\"showlakes\":true,\"lakecolor\":\"white\"},\"title\":{\"x\":0.05},\"mapbox\":{\"style\":\"light\"}}},\"xaxis\":{\"anchor\":\"y\",\"domain\":[0.0,1.0],\"title\":{\"text\":\"Location\"}},\"yaxis\":{\"anchor\":\"x\",\"domain\":[0.0,1.0],\"title\":{\"text\":\"sum of Total sales amount\"}},\"legend\":{\"title\":{\"text\":\"Date\"},\"tracegroupgap\":0},\"title\":{\"text\":\"Total Sales\"},\"barmode\":\"relative\"},                        {\"responsive\": true}                    ).then(function(){\n",
       "                            \n",
       "var gd = document.getElementById('6a846d57-6caf-41b8-be8a-cca212f59ef7');\n",
       "var x = new MutationObserver(function (mutations, observer) {{\n",
       "        var display = window.getComputedStyle(gd).display;\n",
       "        if (!display || display === 'none') {{\n",
       "            console.log([gd, 'removed!']);\n",
       "            Plotly.purge(gd);\n",
       "            observer.disconnect();\n",
       "        }}\n",
       "}});\n",
       "\n",
       "// Listen for the removal of the full notebook cells\n",
       "var notebookContainer = gd.closest('#notebook-container');\n",
       "if (notebookContainer) {{\n",
       "    x.observe(notebookContainer, {childList: true});\n",
       "}}\n",
       "\n",
       "// Listen for the clearing of the current output cell\n",
       "var outputEl = gd.closest('.output');\n",
       "if (outputEl) {{\n",
       "    x.observe(outputEl, {childList: true});\n",
       "}}\n",
       "\n",
       "                        })                };                });            </script>        </div>"
      ]
     },
     "metadata": {},
     "output_type": "display_data"
    }
   ],
   "source": [
    "data = total_sales\n",
    " \n",
    "fig = px.histogram(data, x='Location', \n",
    "                   y='Total sales amount', \n",
    "                   color=data.index, \n",
    "                   title=\"Total Sales\", \n",
    "                   text_auto='.2s')\n",
    "fig.update_traces(textfont_size=11)\n",
    "\n",
    "fig.show('notebook_connected')"
   ]
  },
  {
   "cell_type": "markdown",
   "id": "b43587e3",
   "metadata": {},
   "source": [
    "I have analysed sales data for London, West Midlands offices and total sales. I imported these visualization charts to sales report. I created excel file to send it to sales manager via email. Please find the excel file 'Sales Report (Dec 1-5) in the zip file. "
   ]
  },
  {
   "cell_type": "markdown",
   "id": "ea75a0a6",
   "metadata": {},
   "source": [
    "## 4. Send the sales report via email"
   ]
  },
  {
   "cell_type": "markdown",
   "id": "cd9c82a0",
   "metadata": {},
   "source": [
    "The sales report and total sales data will be sent to sales manager via email."
   ]
  },
  {
   "cell_type": "code",
   "execution_count": 39,
   "id": "a5d599d3",
   "metadata": {},
   "outputs": [],
   "source": [
    "import smtplib\n",
    "from email.message import EmailMessage\n",
    "\n",
    "smtp_outlook = smtplib.SMTP('smtp-mail.outlook.com', 587)"
   ]
  },
  {
   "cell_type": "code",
   "execution_count": 40,
   "id": "80c0e7f1",
   "metadata": {},
   "outputs": [
    {
     "data": {
      "text/plain": [
       "(235, b'2.7.0 Authentication successful')"
      ]
     },
     "execution_count": 40,
     "metadata": {},
     "output_type": "execute_result"
    }
   ],
   "source": [
    "smtp_outlook.ehlo()\n",
    "smtp_outlook.starttls()\n",
    " \n",
    "# Log in\n",
    "smtp_outlook.login('po4857@outlook.com','Qkrdudqls1!')\n"
   ]
  },
  {
   "cell_type": "code",
   "execution_count": 41,
   "id": "b1f13303",
   "metadata": {},
   "outputs": [
    {
     "data": {
      "text/plain": [
       "{}"
      ]
     },
     "execution_count": 41,
     "metadata": {},
     "output_type": "execute_result"
    }
   ],
   "source": [
    "msg=EmailMessage()\n",
    " \n",
    "# Input title\n",
    "msg['Subject']=\"Sales Report\"\n",
    " \n",
    "# Input contents\n",
    "msg.set_content(\"Please find the sales report of Dec 1 - Dec 5 as attached\")\n",
    " \n",
    "# Sender Information\n",
    "msg['From']='po4857@outlook.com'\n",
    " \n",
    "# Receiver Information\n",
    "msg['To']='haileysim1219@gmail.com'\n",
    "\n",
    "# adding the file to email\n",
    "file ='Sales Report (Dec 1-5).xlsx'\n",
    "fp = open(file, 'rb')\n",
    "file_data = fp.read()\n",
    "msg.add_attachment(file_data, maintype='text', subtype='plain', filename=\"Sales Report (Dec 1-5).xlsx\")\n",
    "\n",
    "# adding one more file to email\n",
    "file ='total_sales.csv'\n",
    "fp = open(file, 'rb')\n",
    "file_data = fp.read()\n",
    "msg.add_attachment(file_data, maintype='text', subtype='plain', filename=\"total_sales.csv\")\n",
    "\n",
    "smtp_outlook.send_message(msg)"
   ]
  },
  {
   "cell_type": "markdown",
   "id": "b27146d0",
   "metadata": {},
   "source": [
    "The file named 'Sales Report (Dec 1-5)' and 'total_sales' has been sent to sales manager via email. These are included total sales data and visualization sales charts."
   ]
  }
 ],
 "metadata": {
  "kernelspec": {
   "display_name": "Python 3 (ipykernel)",
   "language": "python",
   "name": "python3"
  },
  "language_info": {
   "codemirror_mode": {
    "name": "ipython",
    "version": 3
   },
   "file_extension": ".py",
   "mimetype": "text/x-python",
   "name": "python",
   "nbconvert_exporter": "python",
   "pygments_lexer": "ipython3",
   "version": "3.9.13"
  }
 },
 "nbformat": 4,
 "nbformat_minor": 5
}
